{
 "cells": [
  {
   "cell_type": "markdown",
   "metadata": {},
   "source": [
    "[![Banner-Introducci-n.png](https://i.postimg.cc/VkCcqsvv/Banner-Introducci-n.png)](https://postimg.cc/4YsMZgzR)"
   ]
  },
  {
   "cell_type": "markdown",
   "metadata": {},
   "source": [
    "# Introducción a ciencia de datos\n",
    "## L3: Analisis de Varianza - ANOVA\n",
    "\n",
    "De acuerdo con el caso de uso del sector retail vamos a realizar un análisis de varianza, la cual es una herramienta estadística que nos permite realizar comparaciones de medias entre dos o más grupos.\n",
    "\n",
    "### Objetivos\n",
    "1. Identificar las grupos de análisis\n",
    "2. Construir los valores para la tabla ANOVA\n",
    "3. Evaluar el test de hipótesis con el valor P\n",
    "4. Concluir a través del test la diferencia entre medias"
   ]
  },
  {
   "cell_type": "markdown",
   "metadata": {},
   "source": [
    "### 1. Contexto del caso\n",
    "La compañía está muy interesada en lanzar campañas promocionales por lugar de residencia de los potenciales compradores, para esto ha dispuesto una categoría de prueba, esta categoría de productos será elegida por aquella que tenga mayor cantidad de compras, para realizar un estudio de la diferencia de precios en los 5 departamentos donde más ventas se tengan. La pregunta que se plantea la compañía es ¿cómo vamos a comporar varias medias de población? Para esto vamos a realizar un análisis de varianza (ANOVA) de los precios entre los departamentos top \n",
    "\n",
    "### 2. Importación de librerías y archivos\n",
    "En las siguientes líneas de código se importaran los materiales de trabajo necesarios para desarrollar el caso de uso, en esto se incluyen las *librerías y los datos*"
   ]
  },
  {
   "cell_type": "code",
   "execution_count": 1,
   "metadata": {},
   "outputs": [],
   "source": [
    "# Importar las librerías necesarias según el análisis que se vaya a realizar\n",
    "# Librería para manejo de datos\n",
    "import pandas as pd\n",
    "# cargar los datos en csv\n",
    "data= pd.read_csv('Datos_C1_Introduccion_M3.csv', sep=';')\n",
    "#Calcular p valor de la F\n",
    "import scipy.stats as stats"
   ]
  },
  {
   "cell_type": "markdown",
   "metadata": {},
   "source": [
    "Es importante tener en cuenta la visualización de los datos porque además de contexto se puede entender mucho mejor de qué se está hablando y qué tipos de datos se han cargado desde la máquina"
   ]
  },
  {
   "cell_type": "code",
   "execution_count": 2,
   "metadata": {},
   "outputs": [
    {
     "data": {
      "text/html": [
       "<div>\n",
       "<style scoped>\n",
       "    .dataframe tbody tr th:only-of-type {\n",
       "        vertical-align: middle;\n",
       "    }\n",
       "\n",
       "    .dataframe tbody tr th {\n",
       "        vertical-align: top;\n",
       "    }\n",
       "\n",
       "    .dataframe thead th {\n",
       "        text-align: right;\n",
       "    }\n",
       "</style>\n",
       "<table border=\"1\" class=\"dataframe\">\n",
       "  <thead>\n",
       "    <tr style=\"text-align: right;\">\n",
       "      <th></th>\n",
       "      <th>producto_id</th>\n",
       "      <th>precio</th>\n",
       "      <th>valor_flete</th>\n",
       "      <th>departamento_vendedor</th>\n",
       "      <th>peso_g_producto</th>\n",
       "      <th>longitud_cm_producto</th>\n",
       "      <th>altura_cm_producto</th>\n",
       "      <th>ancho_cm_producto</th>\n",
       "      <th>nombre_categoria_producto</th>\n",
       "    </tr>\n",
       "  </thead>\n",
       "  <tbody>\n",
       "    <tr>\n",
       "      <th>0</th>\n",
       "      <td>d1ef230269a528a5683f93b17ced0fbb</td>\n",
       "      <td>39.99</td>\n",
       "      <td>17.92</td>\n",
       "      <td>SP</td>\n",
       "      <td>1150.0</td>\n",
       "      <td>20.0</td>\n",
       "      <td>18.0</td>\n",
       "      <td>43.0</td>\n",
       "      <td>brinquedos</td>\n",
       "    </tr>\n",
       "    <tr>\n",
       "      <th>1</th>\n",
       "      <td>8d0fb54bb58d39a72269eb8fc708e865</td>\n",
       "      <td>23.90</td>\n",
       "      <td>7.43</td>\n",
       "      <td>SP</td>\n",
       "      <td>200.0</td>\n",
       "      <td>16.0</td>\n",
       "      <td>10.0</td>\n",
       "      <td>16.0</td>\n",
       "      <td>esporte_lazer</td>\n",
       "    </tr>\n",
       "    <tr>\n",
       "      <th>2</th>\n",
       "      <td>2ffdf10e724b958c0f7ea69e97d32f64</td>\n",
       "      <td>213.90</td>\n",
       "      <td>13.00</td>\n",
       "      <td>SP</td>\n",
       "      <td>263.0</td>\n",
       "      <td>17.0</td>\n",
       "      <td>12.0</td>\n",
       "      <td>13.0</td>\n",
       "      <td>relogios_presentes</td>\n",
       "    </tr>\n",
       "    <tr>\n",
       "      <th>3</th>\n",
       "      <td>ff5d7f21d255435967dfbe72b5dcdb57</td>\n",
       "      <td>39.00</td>\n",
       "      <td>15.10</td>\n",
       "      <td>SP</td>\n",
       "      <td>167.0</td>\n",
       "      <td>17.0</td>\n",
       "      <td>3.0</td>\n",
       "      <td>17.0</td>\n",
       "      <td>telefonia</td>\n",
       "    </tr>\n",
       "    <tr>\n",
       "      <th>4</th>\n",
       "      <td>4a52073965ad17f345f579bdbdbabd74</td>\n",
       "      <td>35.40</td>\n",
       "      <td>12.23</td>\n",
       "      <td>SP</td>\n",
       "      <td>350.0</td>\n",
       "      <td>16.0</td>\n",
       "      <td>5.0</td>\n",
       "      <td>11.0</td>\n",
       "      <td>perfumaria</td>\n",
       "    </tr>\n",
       "  </tbody>\n",
       "</table>\n",
       "</div>"
      ],
      "text/plain": [
       "                        producto_id  precio  valor_flete  \\\n",
       "0  d1ef230269a528a5683f93b17ced0fbb   39.99        17.92   \n",
       "1  8d0fb54bb58d39a72269eb8fc708e865   23.90         7.43   \n",
       "2  2ffdf10e724b958c0f7ea69e97d32f64  213.90        13.00   \n",
       "3  ff5d7f21d255435967dfbe72b5dcdb57   39.00        15.10   \n",
       "4  4a52073965ad17f345f579bdbdbabd74   35.40        12.23   \n",
       "\n",
       "  departamento_vendedor  peso_g_producto  longitud_cm_producto  \\\n",
       "0                    SP           1150.0                  20.0   \n",
       "1                    SP            200.0                  16.0   \n",
       "2                    SP            263.0                  17.0   \n",
       "3                    SP            167.0                  17.0   \n",
       "4                    SP            350.0                  16.0   \n",
       "\n",
       "   altura_cm_producto  ancho_cm_producto nombre_categoria_producto  \n",
       "0                18.0               43.0                brinquedos  \n",
       "1                10.0               16.0             esporte_lazer  \n",
       "2                12.0               13.0        relogios_presentes  \n",
       "3                 3.0               17.0                 telefonia  \n",
       "4                 5.0               11.0                perfumaria  "
      ]
     },
     "execution_count": 2,
     "metadata": {},
     "output_type": "execute_result"
    }
   ],
   "source": [
    "#visualizar los primeros registros\n",
    "data.head(5)"
   ]
  },
  {
   "cell_type": "markdown",
   "metadata": {},
   "source": [
    "### 3.ANOVA\n",
    "\n",
    "La idea básica detrás de un ANOVA de una vía es tomar muestras de cada grupo y luego calcular las medias muestrales para cada grupo. Luego, comparar la variación de las medias muestrales entre los grupos con la variación dentro de los grupos. \n",
    "Finalmente, podremos tomar una decisión basada en la estadística de prueba, si las medias de los grupos son todas iguales o no.\n",
    "\n",
    "Teniendo claro nuestro objetivo de análisis vamos a realizar el arreglo de los datos para obtener la categoría de estudio y cómo influyen los departamentos en los precios de esta categoría"
   ]
  },
  {
   "cell_type": "code",
   "execution_count": 3,
   "metadata": {},
   "outputs": [
    {
     "data": {
      "text/html": [
       "<div>\n",
       "<style scoped>\n",
       "    .dataframe tbody tr th:only-of-type {\n",
       "        vertical-align: middle;\n",
       "    }\n",
       "\n",
       "    .dataframe tbody tr th {\n",
       "        vertical-align: top;\n",
       "    }\n",
       "\n",
       "    .dataframe thead th {\n",
       "        text-align: right;\n",
       "    }\n",
       "</style>\n",
       "<table border=\"1\" class=\"dataframe\">\n",
       "  <thead>\n",
       "    <tr style=\"text-align: right;\">\n",
       "      <th></th>\n",
       "      <th>nombre_categoria_producto</th>\n",
       "      <th>producto_id</th>\n",
       "    </tr>\n",
       "  </thead>\n",
       "  <tbody>\n",
       "    <tr>\n",
       "      <th>13</th>\n",
       "      <td>cama_mesa_banho</td>\n",
       "      <td>471</td>\n",
       "    </tr>\n",
       "  </tbody>\n",
       "</table>\n",
       "</div>"
      ],
      "text/plain": [
       "   nombre_categoria_producto  producto_id\n",
       "13           cama_mesa_banho          471"
      ]
     },
     "execution_count": 3,
     "metadata": {},
     "output_type": "execute_result"
    }
   ],
   "source": [
    "#buscar la categoría top de productos\n",
    "categoria_top=data.groupby('nombre_categoria_producto').count().reset_index()[['nombre_categoria_producto','producto_id']].sort_values(by=['producto_id'], ascending=False)\n",
    "categoria_top_lista=categoria_top.head(1)['nombre_categoria_producto']\n",
    "categoria_top.head(1)"
   ]
  },
  {
   "cell_type": "code",
   "execution_count": 4,
   "metadata": {},
   "outputs": [
    {
     "data": {
      "text/html": [
       "<div>\n",
       "<style scoped>\n",
       "    .dataframe tbody tr th:only-of-type {\n",
       "        vertical-align: middle;\n",
       "    }\n",
       "\n",
       "    .dataframe tbody tr th {\n",
       "        vertical-align: top;\n",
       "    }\n",
       "\n",
       "    .dataframe thead th {\n",
       "        text-align: right;\n",
       "    }\n",
       "</style>\n",
       "<table border=\"1\" class=\"dataframe\">\n",
       "  <thead>\n",
       "    <tr style=\"text-align: right;\">\n",
       "      <th></th>\n",
       "      <th>departamento_vendedor</th>\n",
       "      <th>producto_id</th>\n",
       "    </tr>\n",
       "  </thead>\n",
       "  <tbody>\n",
       "    <tr>\n",
       "      <th>19</th>\n",
       "      <td>SP</td>\n",
       "      <td>3463</td>\n",
       "    </tr>\n",
       "    <tr>\n",
       "      <th>12</th>\n",
       "      <td>PR</td>\n",
       "      <td>428</td>\n",
       "    </tr>\n",
       "    <tr>\n",
       "      <th>6</th>\n",
       "      <td>MG</td>\n",
       "      <td>422</td>\n",
       "    </tr>\n",
       "    <tr>\n",
       "      <th>13</th>\n",
       "      <td>RJ</td>\n",
       "      <td>218</td>\n",
       "    </tr>\n",
       "    <tr>\n",
       "      <th>17</th>\n",
       "      <td>SC</td>\n",
       "      <td>211</td>\n",
       "    </tr>\n",
       "  </tbody>\n",
       "</table>\n",
       "</div>"
      ],
      "text/plain": [
       "   departamento_vendedor  producto_id\n",
       "19                    SP         3463\n",
       "12                    PR          428\n",
       "6                     MG          422\n",
       "13                    RJ          218\n",
       "17                    SC          211"
      ]
     },
     "execution_count": 4,
     "metadata": {},
     "output_type": "execute_result"
    }
   ],
   "source": [
    "# Encontrar los departamentos top 5\n",
    "departamento_top=data.groupby('departamento_vendedor').count().reset_index()[['departamento_vendedor','producto_id']].sort_values(by=['producto_id'], ascending=False)\n",
    "departamento_top_lista=departamento_top.head()['departamento_vendedor'].to_list()\n",
    "departamento_top.head()"
   ]
  },
  {
   "cell_type": "code",
   "execution_count": 5,
   "metadata": {},
   "outputs": [
    {
     "data": {
      "text/html": [
       "<div>\n",
       "<style scoped>\n",
       "    .dataframe tbody tr th:only-of-type {\n",
       "        vertical-align: middle;\n",
       "    }\n",
       "\n",
       "    .dataframe tbody tr th {\n",
       "        vertical-align: top;\n",
       "    }\n",
       "\n",
       "    .dataframe thead th {\n",
       "        text-align: right;\n",
       "    }\n",
       "</style>\n",
       "<table border=\"1\" class=\"dataframe\">\n",
       "  <thead>\n",
       "    <tr style=\"text-align: right;\">\n",
       "      <th></th>\n",
       "      <th>precio</th>\n",
       "      <th>departamento_vendedor</th>\n",
       "      <th>nombre_categoria_producto</th>\n",
       "    </tr>\n",
       "  </thead>\n",
       "  <tbody>\n",
       "    <tr>\n",
       "      <th>6</th>\n",
       "      <td>160.00</td>\n",
       "      <td>SP</td>\n",
       "      <td>cama_mesa_banho</td>\n",
       "    </tr>\n",
       "    <tr>\n",
       "      <th>11</th>\n",
       "      <td>24.99</td>\n",
       "      <td>SP</td>\n",
       "      <td>cama_mesa_banho</td>\n",
       "    </tr>\n",
       "    <tr>\n",
       "      <th>14</th>\n",
       "      <td>59.99</td>\n",
       "      <td>SP</td>\n",
       "      <td>cama_mesa_banho</td>\n",
       "    </tr>\n",
       "    <tr>\n",
       "      <th>15</th>\n",
       "      <td>125.99</td>\n",
       "      <td>SP</td>\n",
       "      <td>cama_mesa_banho</td>\n",
       "    </tr>\n",
       "    <tr>\n",
       "      <th>23</th>\n",
       "      <td>78.99</td>\n",
       "      <td>SP</td>\n",
       "      <td>cama_mesa_banho</td>\n",
       "    </tr>\n",
       "  </tbody>\n",
       "</table>\n",
       "</div>"
      ],
      "text/plain": [
       "    precio departamento_vendedor nombre_categoria_producto\n",
       "6   160.00                    SP           cama_mesa_banho\n",
       "11   24.99                    SP           cama_mesa_banho\n",
       "14   59.99                    SP           cama_mesa_banho\n",
       "15  125.99                    SP           cama_mesa_banho\n",
       "23   78.99                    SP           cama_mesa_banho"
      ]
     },
     "execution_count": 5,
     "metadata": {},
     "output_type": "execute_result"
    }
   ],
   "source": [
    "#filtrar por los departamentos top\n",
    "data_top=data[data['nombre_categoria_producto'].isin(categoria_top_lista) & data['departamento_vendedor'].isin(departamento_top_lista)]\n",
    "data_top[['precio','departamento_vendedor','nombre_categoria_producto']].head()"
   ]
  },
  {
   "cell_type": "markdown",
   "metadata": {},
   "source": [
    "### 3.1. Aplicación de ANOVA\n",
    "\n",
    "Retomando la aplicación vista en la inforgrafía debemos identificar la estimación de mínimos cuadrados\n",
    "\n",
    "$SST=SSA+SSE$\n",
    "\n",
    "* SST representa la suma de varianzas de cada dato con respecto a la varianza total\n",
    "* SSA representa la suma de varianzas con respecto al factor A \n",
    "* SSE representa la suma de varianzas que no pueden ser explicadas.\n",
    "\n",
    "La cantidad total de variabilidad proviene de dos fuentes posibles, a saber:\n",
    "1. Diferencia entre los grupos  (que podemos explicar a través de SSA)\n",
    "2. Diferencia dentro de los grupos (que podemos explicar a través de SSE)\n",
    "\n",
    "La suma de los cuadrados debido al factor (SSA) y la suma de los cuadrados debido al error (SSE) se enumeran en la tabla ANOVA de una vía. La suma de SSA y SSE es igual a la suma total de cuadrados (SST).\n",
    "\n",
    "### 3.1.1. Hipótesis de ANOVA\n",
    "El esquema simple de la prueba ANOVA :\n",
    "Prueba F para diferencias en más de dos medias\n",
    "\n",
    "$H₀: μ₁ = μ₂ = μ₃ =… $\n",
    "\n",
    "$H₁:$ No todos los $μᵢ$ son iguales, donde $i = 1, 2, 3,….$\n",
    "\n",
    "Nivel de significancia = $α$\n",
    "\n",
    "donde μ es la media muestral del factor\n",
    "\n",
    "En las siguientes líneas vamos a calcular los requistos necesarios para el cálculo de el test ANOVA\n",
    "1. Calcular los tamaños de los grupos para la n\n",
    "2. Calcular la varianza de los grupos\n",
    "3. Crear la tabla con la suma de las varianzas"
   ]
  },
  {
   "cell_type": "code",
   "execution_count": 6,
   "metadata": {},
   "outputs": [
    {
     "data": {
      "text/html": [
       "<div>\n",
       "<style scoped>\n",
       "    .dataframe tbody tr th:only-of-type {\n",
       "        vertical-align: middle;\n",
       "    }\n",
       "\n",
       "    .dataframe tbody tr th {\n",
       "        vertical-align: top;\n",
       "    }\n",
       "\n",
       "    .dataframe thead th {\n",
       "        text-align: right;\n",
       "    }\n",
       "</style>\n",
       "<table border=\"1\" class=\"dataframe\">\n",
       "  <thead>\n",
       "    <tr style=\"text-align: right;\">\n",
       "      <th></th>\n",
       "      <th>departamento_vendedor</th>\n",
       "      <th>precio</th>\n",
       "    </tr>\n",
       "  </thead>\n",
       "  <tbody>\n",
       "    <tr>\n",
       "      <th>0</th>\n",
       "      <td>MG</td>\n",
       "      <td>16</td>\n",
       "    </tr>\n",
       "    <tr>\n",
       "      <th>1</th>\n",
       "      <td>PR</td>\n",
       "      <td>8</td>\n",
       "    </tr>\n",
       "    <tr>\n",
       "      <th>2</th>\n",
       "      <td>RJ</td>\n",
       "      <td>7</td>\n",
       "    </tr>\n",
       "    <tr>\n",
       "      <th>3</th>\n",
       "      <td>SC</td>\n",
       "      <td>25</td>\n",
       "    </tr>\n",
       "    <tr>\n",
       "      <th>4</th>\n",
       "      <td>SP</td>\n",
       "      <td>408</td>\n",
       "    </tr>\n",
       "  </tbody>\n",
       "</table>\n",
       "</div>"
      ],
      "text/plain": [
       "  departamento_vendedor  precio\n",
       "0                    MG      16\n",
       "1                    PR       8\n",
       "2                    RJ       7\n",
       "3                    SC      25\n",
       "4                    SP     408"
      ]
     },
     "execution_count": 6,
     "metadata": {},
     "output_type": "execute_result"
    }
   ],
   "source": [
    "# Variables de interés\n",
    "data_muestra=data_top[['precio','departamento_vendedor']]\n",
    "tamano_grupos = data_muestra.groupby('departamento_vendedor').count().reset_index()\n",
    "tamano_grupos"
   ]
  },
  {
   "cell_type": "code",
   "execution_count": 7,
   "metadata": {},
   "outputs": [
    {
     "data": {
      "text/plain": [
       "<AxesSubplot:xlabel='departamento_vendedor'>"
      ]
     },
     "execution_count": 7,
     "metadata": {},
     "output_type": "execute_result"
    },
    {
     "data": {
      "image/png": "[encoded data removed]",
      "text/plain": [
       "<Figure size 432x288 with 1 Axes>"
      ]
     },
     "metadata": {
      "needs_background": "light"
     },
     "output_type": "display_data"
    }
   ],
   "source": [
    "tamano_grupos.plot(kind='bar',x='departamento_vendedor',y='precio')"
   ]
  },
  {
   "cell_type": "code",
   "execution_count": 8,
   "metadata": {},
   "outputs": [
    {
     "data": {
      "text/html": [
       "<div>\n",
       "<style scoped>\n",
       "    .dataframe tbody tr th:only-of-type {\n",
       "        vertical-align: middle;\n",
       "    }\n",
       "\n",
       "    .dataframe tbody tr th {\n",
       "        vertical-align: top;\n",
       "    }\n",
       "\n",
       "    .dataframe thead th {\n",
       "        text-align: right;\n",
       "    }\n",
       "</style>\n",
       "<table border=\"1\" class=\"dataframe\">\n",
       "  <thead>\n",
       "    <tr style=\"text-align: right;\">\n",
       "      <th></th>\n",
       "      <th>precio</th>\n",
       "    </tr>\n",
       "    <tr>\n",
       "      <th>departamento_vendedor</th>\n",
       "      <th></th>\n",
       "    </tr>\n",
       "  </thead>\n",
       "  <tbody>\n",
       "    <tr>\n",
       "      <th>MG</th>\n",
       "      <td>33.904638</td>\n",
       "    </tr>\n",
       "    <tr>\n",
       "      <th>PR</th>\n",
       "      <td>33.912953</td>\n",
       "    </tr>\n",
       "    <tr>\n",
       "      <th>RJ</th>\n",
       "      <td>18.894275</td>\n",
       "    </tr>\n",
       "    <tr>\n",
       "      <th>SC</th>\n",
       "      <td>43.581367</td>\n",
       "    </tr>\n",
       "    <tr>\n",
       "      <th>SP</th>\n",
       "      <td>62.864406</td>\n",
       "    </tr>\n",
       "  </tbody>\n",
       "</table>\n",
       "</div>"
      ],
      "text/plain": [
       "                          precio\n",
       "departamento_vendedor           \n",
       "MG                     33.904638\n",
       "PR                     33.912953\n",
       "RJ                     18.894275\n",
       "SC                     43.581367\n",
       "SP                     62.864406"
      ]
     },
     "execution_count": 8,
     "metadata": {},
     "output_type": "execute_result"
    }
   ],
   "source": [
    "# varianza de los grupos\n",
    "varianza_grupos = data_muestra.groupby('departamento_vendedor').std()\n",
    "varianza_grupos"
   ]
  },
  {
   "cell_type": "markdown",
   "metadata": {},
   "source": [
    "Ya con estos dos elementos podemos proceder al cálculo de la tabla, con esto podremos realizar la prueba de hipótesis y mirar si existen diferencias entre los promedios de los precios en las 5 ciudades que más se venden"
   ]
  },
  {
   "cell_type": "code",
   "execution_count": 9,
   "metadata": {
    "scrolled": true
   },
   "outputs": [
    {
     "data": {
      "text/html": [
       "<div>\n",
       "<style scoped>\n",
       "    .dataframe tbody tr th:only-of-type {\n",
       "        vertical-align: middle;\n",
       "    }\n",
       "\n",
       "    .dataframe tbody tr th {\n",
       "        vertical-align: top;\n",
       "    }\n",
       "\n",
       "    .dataframe thead th {\n",
       "        text-align: right;\n",
       "    }\n",
       "</style>\n",
       "<table border=\"1\" class=\"dataframe\">\n",
       "  <thead>\n",
       "    <tr style=\"text-align: right;\">\n",
       "      <th></th>\n",
       "      <th>SS</th>\n",
       "      <th>gdl</th>\n",
       "      <th>MS</th>\n",
       "      <th>F</th>\n",
       "      <th>P-valor</th>\n",
       "    </tr>\n",
       "    <tr>\n",
       "      <th>Fuente de variación</th>\n",
       "      <th></th>\n",
       "      <th></th>\n",
       "      <th></th>\n",
       "      <th></th>\n",
       "      <th></th>\n",
       "    </tr>\n",
       "  </thead>\n",
       "  <tbody>\n",
       "    <tr>\n",
       "      <th>SSA</th>\n",
       "      <td></td>\n",
       "      <td></td>\n",
       "      <td></td>\n",
       "      <td></td>\n",
       "      <td></td>\n",
       "    </tr>\n",
       "    <tr>\n",
       "      <th>SSE</th>\n",
       "      <td></td>\n",
       "      <td></td>\n",
       "      <td></td>\n",
       "      <td></td>\n",
       "      <td></td>\n",
       "    </tr>\n",
       "    <tr>\n",
       "      <th>Total</th>\n",
       "      <td></td>\n",
       "      <td></td>\n",
       "      <td></td>\n",
       "      <td></td>\n",
       "      <td></td>\n",
       "    </tr>\n",
       "  </tbody>\n",
       "</table>\n",
       "</div>"
      ],
      "text/plain": [
       "                    SS gdl MS F P-valor\n",
       "Fuente de variación                    \n",
       "SSA                                    \n",
       "SSE                                    \n",
       "Total                                  "
      ]
     },
     "execution_count": 9,
     "metadata": {},
     "output_type": "execute_result"
    }
   ],
   "source": [
    "# Crear la estructura de tabla ANOVA \n",
    "data = [['SSA', '', '', '', '', ''], ['SSE', '', '', '', '', ''], ['Total', '', '', '', '', '']] \n",
    "anova_tabla = pd.DataFrame(data, columns = ['Fuente de variación', 'SS', 'gdl', 'MS', 'F', 'P-valor']) \n",
    "anova_tabla.set_index('Fuente de variación', inplace = True)\n",
    "anova_tabla"
   ]
  },
  {
   "cell_type": "markdown",
   "metadata": {},
   "source": [
    "una vez creada la tabla, podemos empezar a encontrar los valores para rellenarla, para esto vamos a calcular: \n",
    "\n",
    "* SST\n",
    "* SSE\n",
    "* SSA\n",
    "\n",
    "y actualizarlos en la tabla"
   ]
  },
  {
   "cell_type": "code",
   "execution_count": 10,
   "metadata": {
    "scrolled": true
   },
   "outputs": [
    {
     "data": {
      "text/plain": [
       "37108.44295407303"
      ]
     },
     "execution_count": 10,
     "metadata": {},
     "output_type": "execute_result"
    }
   ],
   "source": [
    "# Calcular la SSA y actualizamos la tabla\n",
    "promedio_precio = data_muestra['precio'].mean()\n",
    "SSA = data_muestra.groupby('departamento_vendedor').count() * (data_muestra.groupby('departamento_vendedor').mean() - promedio_precio)**2\n",
    "anova_tabla.at['SSA', 'SS'] = SSA['precio'].sum()\n",
    "anova_tabla.at['SSA', 'SS']"
   ]
  },
  {
   "cell_type": "code",
   "execution_count": 11,
   "metadata": {},
   "outputs": [
    {
     "data": {
      "text/plain": [
       "1681456.4730286857"
      ]
     },
     "execution_count": 11,
     "metadata": {},
     "output_type": "execute_result"
    }
   ],
   "source": [
    "# Calculas la SSE y actualizar en la tabla\n",
    "SSE = (data_muestra.groupby('departamento_vendedor').count() - 1) * data_muestra.groupby('departamento_vendedor').std()**2\n",
    "anova_tabla.at['SSE', 'SS'] = SSE['precio'].sum()\n",
    "anova_tabla.at['SSE', 'SS']"
   ]
  },
  {
   "cell_type": "code",
   "execution_count": 12,
   "metadata": {},
   "outputs": [
    {
     "data": {
      "text/plain": [
       "1718564.9159827586"
      ]
     },
     "execution_count": 12,
     "metadata": {},
     "output_type": "execute_result"
    }
   ],
   "source": [
    "# Calcular SST y actualizar en la tabla\n",
    "SST = SSA['precio'].sum() + SSE['precio'].sum()\n",
    "anova_tabla.at['Total', 'SS']= SST\n",
    "anova_tabla.at['Total', 'SS']"
   ]
  },
  {
   "cell_type": "markdown",
   "metadata": {},
   "source": [
    "Ya tenemos calculados nuestro $SST=SSA+SSE$\n",
    "\n",
    "$1718564.91=37108.44 + 1681456.47$\n",
    "\n",
    "Nuestros siguientes campos serán calcular:\n",
    "* Grados de liberta (gdl)\n",
    "* MS"
   ]
  },
  {
   "cell_type": "code",
   "execution_count": 13,
   "metadata": {},
   "outputs": [],
   "source": [
    "# Calcular los grados de libertas\n",
    "anova_tabla['gdl']['SSA'] = data_muestra['departamento_vendedor'].nunique() - 1\n",
    "anova_tabla['gdl']['SSE'] = data_muestra.shape[0] - data_muestra['departamento_vendedor'].nunique()\n",
    "anova_tabla['gdl']['Total'] = data_muestra.shape[0] - 1"
   ]
  },
  {
   "cell_type": "code",
   "execution_count": 14,
   "metadata": {},
   "outputs": [
    {
     "data": {
      "text/plain": [
       "4"
      ]
     },
     "execution_count": 14,
     "metadata": {},
     "output_type": "execute_result"
    }
   ],
   "source": [
    "anova_tabla['gdl']['SSA']"
   ]
  },
  {
   "cell_type": "code",
   "execution_count": 15,
   "metadata": {},
   "outputs": [
    {
     "data": {
      "text/plain": [
       "459"
      ]
     },
     "execution_count": 15,
     "metadata": {},
     "output_type": "execute_result"
    }
   ],
   "source": [
    "anova_tabla['gdl']['SSE']"
   ]
  },
  {
   "cell_type": "code",
   "execution_count": 16,
   "metadata": {},
   "outputs": [
    {
     "data": {
      "text/plain": [
       "463"
      ]
     },
     "execution_count": 16,
     "metadata": {},
     "output_type": "execute_result"
    }
   ],
   "source": [
    "anova_tabla['gdl']['Total']"
   ]
  },
  {
   "cell_type": "code",
   "execution_count": 17,
   "metadata": {},
   "outputs": [
    {
     "data": {
      "text/plain": [
       "Fuente de variación\n",
       "SSA      9277.110739\n",
       "SSE      3663.303863\n",
       "Total    3711.803274\n",
       "Name: MS, dtype: object"
      ]
     },
     "execution_count": 17,
     "metadata": {},
     "output_type": "execute_result"
    }
   ],
   "source": [
    "# Calcular MS\n",
    "anova_tabla['MS'] = anova_tabla['SS'] / anova_tabla['gdl']\n",
    "anova_tabla['MS']"
   ]
  },
  {
   "cell_type": "markdown",
   "metadata": {},
   "source": [
    "Ya con los cálculos de los grados de libertad y con el MS calculado podemos estimar el valor F y el Valor p para la prueba estadística"
   ]
  },
  {
   "cell_type": "code",
   "execution_count": 18,
   "metadata": {},
   "outputs": [
    {
     "data": {
      "text/plain": [
       "2.532443686341701"
      ]
     },
     "execution_count": 18,
     "metadata": {},
     "output_type": "execute_result"
    }
   ],
   "source": [
    "# Calcular F \n",
    "F = anova_tabla['MS']['SSA'] / anova_tabla['MS']['SSE']\n",
    "anova_tabla.at['SSA','F'] = F\n",
    "F"
   ]
  },
  {
   "cell_type": "code",
   "execution_count": 19,
   "metadata": {},
   "outputs": [
    {
     "data": {
      "text/plain": [
       "0.03973637683183251"
      ]
     },
     "execution_count": 19,
     "metadata": {},
     "output_type": "execute_result"
    }
   ],
   "source": [
    "# Calcular p-valor\n",
    "anova_tabla.at['SSA','P-valor'] = 1 - stats.f.cdf(F, anova_tabla.at['SSA','gdl'], anova_tabla.at['SSE','gdl'])\n",
    "anova_tabla.at['SSA','P-valor']"
   ]
  },
  {
   "cell_type": "markdown",
   "metadata": {},
   "source": [
    "Con estos últimos cálculos podemos obtener el valor P de la F calculada, puedes también revisar la formulación que se propone en la infografía y cómo se traduce a lenguaje de programación, por último vamos a visualizar la tabla ya completa y evaluar la hipótesis de igualdad de medias"
   ]
  },
  {
   "cell_type": "code",
   "execution_count": 20,
   "metadata": {
    "scrolled": true
   },
   "outputs": [
    {
     "data": {
      "text/html": [
       "<div>\n",
       "<style scoped>\n",
       "    .dataframe tbody tr th:only-of-type {\n",
       "        vertical-align: middle;\n",
       "    }\n",
       "\n",
       "    .dataframe tbody tr th {\n",
       "        vertical-align: top;\n",
       "    }\n",
       "\n",
       "    .dataframe thead th {\n",
       "        text-align: right;\n",
       "    }\n",
       "</style>\n",
       "<table border=\"1\" class=\"dataframe\">\n",
       "  <thead>\n",
       "    <tr style=\"text-align: right;\">\n",
       "      <th></th>\n",
       "      <th>SS</th>\n",
       "      <th>gdl</th>\n",
       "      <th>MS</th>\n",
       "      <th>F</th>\n",
       "      <th>P-valor</th>\n",
       "    </tr>\n",
       "    <tr>\n",
       "      <th>Fuente de variación</th>\n",
       "      <th></th>\n",
       "      <th></th>\n",
       "      <th></th>\n",
       "      <th></th>\n",
       "      <th></th>\n",
       "    </tr>\n",
       "  </thead>\n",
       "  <tbody>\n",
       "    <tr>\n",
       "      <th>SSA</th>\n",
       "      <td>37108.442954</td>\n",
       "      <td>4</td>\n",
       "      <td>9277.110739</td>\n",
       "      <td>2.532444</td>\n",
       "      <td>0.039736</td>\n",
       "    </tr>\n",
       "    <tr>\n",
       "      <th>SSE</th>\n",
       "      <td>1681456.473029</td>\n",
       "      <td>459</td>\n",
       "      <td>3663.303863</td>\n",
       "      <td></td>\n",
       "      <td></td>\n",
       "    </tr>\n",
       "    <tr>\n",
       "      <th>Total</th>\n",
       "      <td>1718564.915983</td>\n",
       "      <td>463</td>\n",
       "      <td>3711.803274</td>\n",
       "      <td></td>\n",
       "      <td></td>\n",
       "    </tr>\n",
       "  </tbody>\n",
       "</table>\n",
       "</div>"
      ],
      "text/plain": [
       "                                 SS  gdl           MS         F   P-valor\n",
       "Fuente de variación                                                      \n",
       "SSA                    37108.442954    4  9277.110739  2.532444  0.039736\n",
       "SSE                  1681456.473029  459  3663.303863                    \n",
       "Total                1718564.915983  463  3711.803274                    "
      ]
     },
     "execution_count": 20,
     "metadata": {},
     "output_type": "execute_result"
    }
   ],
   "source": [
    "# Visualizar tabla ANOVA\n",
    "anova_tabla"
   ]
  },
  {
   "cell_type": "code",
   "execution_count": 21,
   "metadata": {},
   "outputs": [
    {
     "data": {
      "text/plain": [
       "0.03973637683183251"
      ]
     },
     "execution_count": 21,
     "metadata": {},
     "output_type": "execute_result"
    }
   ],
   "source": [
    "anova_tabla.at['SSA','P-valor']"
   ]
  },
  {
   "cell_type": "code",
   "execution_count": 22,
   "metadata": {},
   "outputs": [
    {
     "name": "stdout",
     "output_type": "stream",
     "text": [
      "Usar el P-valor para decidir sobre la hipótesis\n",
      "Se rechaza hipótesis nula \n",
      "Valor F es: 2.532443686341701  y el P-valor es: 0.03973637683183251\n"
     ]
    }
   ],
   "source": [
    "# Evaluar la hipótesis con un nivel de confianza del 95% y significancia del 5%\n",
    "alpha=0.05 #Establecer la significancia\n",
    "# Evaluar la hipótesis\n",
    "print(\"Usar el P-valor para decidir sobre la hipótesis\")\n",
    "if anova_tabla.at['SSA','P-valor'] <= alpha:\n",
    "    conclusion = \"Se rechaza hipótesis nula \"\n",
    "else:\n",
    "    conclusion = \"No se rechaza hipótesis nula \"\n",
    "print(conclusion)\n",
    "print(\"Valor F es:\", anova_tabla['F']['SSA'], \" y el P-valor es:\", anova_tabla['P-valor']['SSA'])    \n"
   ]
  },
  {
   "cell_type": "markdown",
   "metadata": {},
   "source": [
    "Vemos que el P-valor es menor que nuestro  α por lo tanto se puede rechazar la hipótesis nula, esto nos muestra que las medias entre departamento son diferentes,por lo tanto nos refleja diferentes precios en el análisis, lo que podemos buscar con la compañía es dónde se encuentran los precios más altos para realizar la campaña de marketing allí, además analizar cómo fomentar las mismas compras en los diferentes departamentos "
   ]
  },
  {
   "cell_type": "code",
   "execution_count": null,
   "metadata": {},
   "outputs": [],
   "source": []
  }
 ],
 "metadata": {
  "kernelspec": {
   "display_name": "Python 3 (ipykernel)",
   "language": "python",
   "name": "python3"
  },
  "language_info": {
   "codemirror_mode": {
    "name": "ipython",
    "version": 3
   },
   "file_extension": ".py",
   "mimetype": "text/x-python",
   "name": "python",
   "nbconvert_exporter": "python",
   "pygments_lexer": "ipython3",
   "version": "3.9.12"
  }
 },
 "nbformat": 4,
 "nbformat_minor": 2
}
