{
 "cells": [
  {
   "cell_type": "markdown",
   "metadata": {},
   "source": [
    "[![Banner-Introducci-n.png](https://i.postimg.cc/VkCcqsvv/Banner-Introducci-n.png)](https://postimg.cc/4YsMZgzR)"
   ]
  },
  {
   "cell_type": "markdown",
   "metadata": {},
   "source": [
    "# Introducción a ciencia de datos\n",
    "## L1: Actividad sobre el t-test\n",
    "\n",
    "De acuerdo con nuestro caso de proyecto de Airbnb, queremos inferir o comprobar si la hipótesis de diferencias de precios entre habitaciones de 2 cuartos en la zona central oeste y central norte son significativas. \n",
    "\n",
    "### Objetivos\n",
    "1. Aplicar la validación de hipótesis con intervalos de confianza\n",
    "2. Aplicar un t-test para la comparación de muestras\n"
   ]
  },
  {
   "cell_type": "markdown",
   "metadata": {},
   "source": [
    "### 1. Contexto del caso\n",
    "\n",
    "Esta actividad te permitirá desarrollar una comprensión más profunda de los temas vistos, entre ellos: \n",
    "\n",
    "· Valor T \n",
    "· Prueba T \n",
    "· Valor p \n",
    "· Contraste de hipótesis \n",
    "\n",
    "Para lograr extender lo aprendido se requieres descargar los datos de listings.csv disponibles en el curso. Los datos han sido analizados, depurados y agregados cuando fue apropiado para facilitar la discusión pública. \n",
    "\n",
    "### 2. Preguntas de extensión \n",
    "\n",
    "Utiliza los datos de listings_m y con las columnas de neighbourhood_cleansed(barrios) y price e identifica los diferentes barrios mencionados y sus respectivos precios \n",
    "\n",
    "1. Calcula los promedios de precio de todos los barrios y grafica los resultados \n",
    "\n",
    "2. Realiza una prueba T y obten los valores de T y p, para dos barrios centrales (Centrum-Oost y Centrum-West) \n",
    "\n",
    "3. Identifica la hipótesis a contrastar para validar si los precios entre estos barrios son iguales con la prueba t. \n",
    "\n",
    "4. Evalúa la hipótesis con niveles de significancia del 1%, 5%, 10% "
   ]
  },
  {
   "cell_type": "markdown",
   "metadata": {},
   "source": [
    "### 2. Importación de librerías y archivos\n",
    "En las siguientes líneas de código se importaran los materiales de trabajo necesarios para desarrollar el caso de uso, en esto se incluyen las *librerías y los datos*"
   ]
  },
  {
   "cell_type": "code",
   "execution_count": 1,
   "metadata": {},
   "outputs": [],
   "source": [
    "# Importar las librerías necesarias según el análisis que se vaya a realizar\n",
    "# Librería para comando de sistema\n",
    "import os\n",
    "# Librería para manejo de datos\n",
    "import pandas as pd\n",
    "#librería para cálculos numéricos\n",
    "import numpy as np\n",
    "# Calcular el test estadístico\n",
    "from statsmodels.stats import weightstats as stests\n",
    "from scipy.stats import ttest_ind\n",
    "#librería para graficar\n",
    "import matplotlib.pyplot as plt"
   ]
  },
  {
   "cell_type": "code",
   "execution_count": 2,
   "metadata": {},
   "outputs": [],
   "source": [
    "# cargar los datos en csv\n",
    "data= pd.read_csv('listings_m.csv', sep=';',encoding='latin-1')"
   ]
  },
  {
   "cell_type": "code",
   "execution_count": 3,
   "metadata": {},
   "outputs": [
    {
     "data": {
      "text/html": [
       "<div>\n",
       "<style scoped>\n",
       "    .dataframe tbody tr th:only-of-type {\n",
       "        vertical-align: middle;\n",
       "    }\n",
       "\n",
       "    .dataframe tbody tr th {\n",
       "        vertical-align: top;\n",
       "    }\n",
       "\n",
       "    .dataframe thead th {\n",
       "        text-align: right;\n",
       "    }\n",
       "</style>\n",
       "<table border=\"1\" class=\"dataframe\">\n",
       "  <thead>\n",
       "    <tr style=\"text-align: right;\">\n",
       "      <th></th>\n",
       "      <th>neighbourhood_cleansed</th>\n",
       "      <th>price</th>\n",
       "      <th>bedrooms</th>\n",
       "    </tr>\n",
       "  </thead>\n",
       "  <tbody>\n",
       "    <tr>\n",
       "      <th>0</th>\n",
       "      <td>Centrum-West</td>\n",
       "      <td>211</td>\n",
       "      <td>2.0</td>\n",
       "    </tr>\n",
       "    <tr>\n",
       "      <th>1</th>\n",
       "      <td>Centrum-West</td>\n",
       "      <td>157</td>\n",
       "      <td>2.0</td>\n",
       "    </tr>\n",
       "    <tr>\n",
       "      <th>2</th>\n",
       "      <td>De Baarsjes - Oud-West</td>\n",
       "      <td>250</td>\n",
       "      <td>2.0</td>\n",
       "    </tr>\n",
       "    <tr>\n",
       "      <th>3</th>\n",
       "      <td>De Pijp - Rivierenbuurt</td>\n",
       "      <td>222</td>\n",
       "      <td>2.0</td>\n",
       "    </tr>\n",
       "    <tr>\n",
       "      <th>4</th>\n",
       "      <td>Zuid</td>\n",
       "      <td>149</td>\n",
       "      <td>2.0</td>\n",
       "    </tr>\n",
       "  </tbody>\n",
       "</table>\n",
       "</div>"
      ],
      "text/plain": [
       "    neighbourhood_cleansed  price  bedrooms\n",
       "0             Centrum-West    211       2.0\n",
       "1             Centrum-West    157       2.0\n",
       "2   De Baarsjes - Oud-West    250       2.0\n",
       "3  De Pijp - Rivierenbuurt    222       2.0\n",
       "4                     Zuid    149       2.0"
      ]
     },
     "execution_count": 3,
     "metadata": {},
     "output_type": "execute_result"
    }
   ],
   "source": [
    "#Extracción de dos alcobas\n",
    "data_price = data[data['bedrooms']==2][['neighbourhood_cleansed','price','bedrooms']]\n",
    "data_price = data_price.dropna().reset_index()\n",
    "data_price = data_price.drop(columns='index')\n",
    "data_price.head()"
   ]
  },
  {
   "cell_type": "code",
   "execution_count": 4,
   "metadata": {
    "scrolled": true
   },
   "outputs": [
    {
     "name": "stdout",
     "output_type": "stream",
     "text": [
      "Promedio CO: 233.1889534883721\n",
      "Promedio CW: 263.23614457831326\n"
     ]
    }
   ],
   "source": [
    "# Elegir las zonas\n",
    "price_CO = data_price[data_price['neighbourhood_cleansed']=='Centrum-Oost']['price']\n",
    "price_CW = data_price[data_price['neighbourhood_cleansed']=='Centrum-West']['price']\n",
    "print('Promedio CO: '+str(price_CO.mean()))\n",
    "print('Promedio CW: '+str(price_CW.mean()))"
   ]
  },
  {
   "cell_type": "code",
   "execution_count": 6,
   "metadata": {
    "scrolled": true
   },
   "outputs": [],
   "source": [
    "# Mostrar promedio de precios de bookings\n",
    "# ..."
   ]
  },
  {
   "cell_type": "code",
   "execution_count": 5,
   "metadata": {},
   "outputs": [
    {
     "name": "stdout",
     "output_type": "stream",
     "text": [
      "Valor de t: -1.2883510394689561\n",
      "Valor de p 0.1980174272994103\n"
     ]
    }
   ],
   "source": [
    "# Valores de z y p\n",
    "ttest, pval = ttest_ind(price_CO, price_CW)\n",
    "print('Valor de t: '+str(ttest))\n",
    "print('Valor de p '+str(pval))\n"
   ]
  },
  {
   "cell_type": "code",
   "execution_count": 8,
   "metadata": {},
   "outputs": [
    {
     "name": "stdout",
     "output_type": "stream",
     "text": [
      "No rechazar Hipótesis nula\n"
     ]
    }
   ],
   "source": [
    "confianza = 0.95\n",
    "significancia = 1-confianza\n",
    "\n",
    "if pval < significancia:\n",
    "    print('Rechazar Hipótesis nula')\n",
    "else:\n",
    "    print('No rechazar Hipótesis nula')"
   ]
  },
  {
   "cell_type": "markdown",
   "metadata": {},
   "source": [
    "Por lo tanto podemos inferir con un nivel de confianza del 95% que los promedios del valor de habitacion entre estas dos zonas para apartamentos de dos alcobas ES similar"
   ]
  },
  {
   "cell_type": "code",
   "execution_count": null,
   "metadata": {},
   "outputs": [],
   "source": []
  }
 ],
 "metadata": {
  "kernelspec": {
   "display_name": "Python 3 (ipykernel)",
   "language": "python",
   "name": "python3"
  },
  "language_info": {
   "codemirror_mode": {
    "name": "ipython",
    "version": 3
   },
   "file_extension": ".py",
   "mimetype": "text/x-python",
   "name": "python",
   "nbconvert_exporter": "python",
   "pygments_lexer": "ipython3",
   "version": "3.9.12"
  }
 },
 "nbformat": 4,
 "nbformat_minor": 2
}
