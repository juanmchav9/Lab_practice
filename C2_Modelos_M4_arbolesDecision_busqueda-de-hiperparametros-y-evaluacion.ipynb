{
 "cells": [
  {
   "cell_type": "markdown",
   "metadata": {},
   "source": [
    "[![Banner-Modelos.png](https://i.postimg.cc/RCgy2XdL/Banner-Modelos.png)](https://postimg.cc/PN8SwbBC)"
   ]
  },
  {
   "cell_type": "markdown",
   "metadata": {},
   "source": [
    "## L3: Árboles de decisión. Búsqueda de hiperparámetros y evaluación.\n",
    "\n",
    "El objetivo de este notebook es aplicar los conocimientos adquiridos sobre búsqueda de hiperparámetros con técnicas de validación y evaluación de modelos utilizando métricas para clasificación, en la construcción de árboles de decisión. Se explicará, paso a paso, como: \n",
    "\n",
    "1. Preparar los datos para el modelado.\n",
    "2. Crear un modelo de árbol de decisión.\n",
    "3. Utilizar técnicas de validación para el ajuste de hiperparámetros propios de árboles de decisión.\n",
    "4. Evaluar el modelo.\n",
    "\n",
    "El ejemplo que será utilizado, de acuerdo con el caso de uso del sector retail, está relacionado con la deserción de empleados.\n",
    "\n",
    "Además, puedes utilizar este notebook como guía para la solución de los problemas que se propongan en los ejercicios prácticos y para el proyecto."
   ]
  },
  {
   "cell_type": "markdown",
   "metadata": {},
   "source": [
    "###### Autores: David Ocampo (d.ocampo@uniandes.edu.co), Julián Montoya (jc.montoyar@uniandes.edu.co)"
   ]
  },
  {
   "cell_type": "markdown",
   "metadata": {},
   "source": [
    "### 1. Importación de librerías \n",
    "\n",
    "En las siguientes líneas de código se importan las librerías y herramientas necesarias para desarrollar el caso de uso."
   ]
  },
  {
   "cell_type": "code",
   "execution_count": 1,
   "metadata": {},
   "outputs": [],
   "source": [
    "# Librerías para manejo de datos\n",
    "import pandas as pd\n",
    "# Para preparar los datos\n",
    "from sklearn.preprocessing import LabelEncoder\n",
    "# Para crear el arbol de decisión \n",
    "from sklearn.tree import DecisionTreeClassifier \n",
    "# Para realizar la separación del conjunto de aprendizaje en entrenamiento y test.\n",
    "from sklearn.model_selection import train_test_split\n",
    "# Para evaluar el modelo\n",
    "from sklearn.metrics import accuracy_score\n",
    "# Para el reporte de rendimiento con métricas de clasificación \n",
    "from sklearn.metrics import confusion_matrix, classification_report, precision_score, recall_score, f1_score\n",
    "from sklearn.metrics import plot_confusion_matrix\n",
    "# Para búsqueda de hiperparámetros\n",
    "from sklearn.model_selection import GridSearchCV\n",
    "# Para la validación cruzada\n",
    "from sklearn.model_selection import KFold \n",
    "#Librerías para la visualización\n",
    "import matplotlib.pyplot as plt"
   ]
  },
  {
   "cell_type": "markdown",
   "metadata": {},
   "source": [
    "### 2. Carga de los datos\n",
    "A través de la librería **pandas** podemos realizar la carga de datos desde diferentes fuentes de información, en este caso se realizará la carga de un archivo plano csv (archivo separado por comas)."
   ]
  },
  {
   "cell_type": "code",
   "execution_count": 2,
   "metadata": {},
   "outputs": [],
   "source": [
    "# Se cargan los datos. \n",
    "data=pd.read_csv('Datos_C2_Modelos_M4.csv', sep=';', encoding = 'utf-8')"
   ]
  },
  {
   "cell_type": "code",
   "execution_count": 3,
   "metadata": {},
   "outputs": [
    {
     "data": {
      "text/plain": [
       "(1470, 17)"
      ]
     },
     "execution_count": 3,
     "metadata": {},
     "output_type": "execute_result"
    }
   ],
   "source": [
    "# Cantidad de datos y número de variables\n",
    "data.shape"
   ]
  },
  {
   "cell_type": "code",
   "execution_count": 4,
   "metadata": {},
   "outputs": [
    {
     "data": {
      "text/html": [
       "<div>\n",
       "<style scoped>\n",
       "    .dataframe tbody tr th:only-of-type {\n",
       "        vertical-align: middle;\n",
       "    }\n",
       "\n",
       "    .dataframe tbody tr th {\n",
       "        vertical-align: top;\n",
       "    }\n",
       "\n",
       "    .dataframe thead th {\n",
       "        text-align: right;\n",
       "    }\n",
       "</style>\n",
       "<table border=\"1\" class=\"dataframe\">\n",
       "  <thead>\n",
       "    <tr style=\"text-align: right;\">\n",
       "      <th></th>\n",
       "      <th>Edad</th>\n",
       "      <th>Renuncia</th>\n",
       "      <th>Viaje_negocio</th>\n",
       "      <th>Distacia_desde_casa</th>\n",
       "      <th>Satisfacción_ambiente</th>\n",
       "      <th>Género</th>\n",
       "      <th>Nivel_trabajo</th>\n",
       "      <th>Estatus_marital</th>\n",
       "      <th>Salario_mensual</th>\n",
       "      <th>No_Compañías_anteriores</th>\n",
       "      <th>Sobretiempo</th>\n",
       "      <th>Satisfacción_relaciones</th>\n",
       "      <th>Años_trabajo</th>\n",
       "      <th>Antigüedad</th>\n",
       "      <th>Años_cargo_actual</th>\n",
       "      <th>Última_promoción</th>\n",
       "      <th>Años_manager_actual</th>\n",
       "    </tr>\n",
       "  </thead>\n",
       "  <tbody>\n",
       "    <tr>\n",
       "      <th>0</th>\n",
       "      <td>41</td>\n",
       "      <td>SI</td>\n",
       "      <td>Ocasional</td>\n",
       "      <td>1</td>\n",
       "      <td>2</td>\n",
       "      <td>Femenino</td>\n",
       "      <td>2</td>\n",
       "      <td>Soltero</td>\n",
       "      <td>5993</td>\n",
       "      <td>8</td>\n",
       "      <td>SI</td>\n",
       "      <td>1</td>\n",
       "      <td>8</td>\n",
       "      <td>6</td>\n",
       "      <td>4</td>\n",
       "      <td>0</td>\n",
       "      <td>5</td>\n",
       "    </tr>\n",
       "    <tr>\n",
       "      <th>1</th>\n",
       "      <td>49</td>\n",
       "      <td>NO</td>\n",
       "      <td>Frecuentemente</td>\n",
       "      <td>8</td>\n",
       "      <td>3</td>\n",
       "      <td>Masculino</td>\n",
       "      <td>2</td>\n",
       "      <td>Casado</td>\n",
       "      <td>5130</td>\n",
       "      <td>1</td>\n",
       "      <td>NO</td>\n",
       "      <td>4</td>\n",
       "      <td>10</td>\n",
       "      <td>10</td>\n",
       "      <td>7</td>\n",
       "      <td>1</td>\n",
       "      <td>7</td>\n",
       "    </tr>\n",
       "    <tr>\n",
       "      <th>2</th>\n",
       "      <td>37</td>\n",
       "      <td>SI</td>\n",
       "      <td>Ocasional</td>\n",
       "      <td>2</td>\n",
       "      <td>4</td>\n",
       "      <td>Masculino</td>\n",
       "      <td>1</td>\n",
       "      <td>Soltero</td>\n",
       "      <td>2090</td>\n",
       "      <td>6</td>\n",
       "      <td>SI</td>\n",
       "      <td>2</td>\n",
       "      <td>7</td>\n",
       "      <td>0</td>\n",
       "      <td>0</td>\n",
       "      <td>0</td>\n",
       "      <td>0</td>\n",
       "    </tr>\n",
       "    <tr>\n",
       "      <th>3</th>\n",
       "      <td>33</td>\n",
       "      <td>NO</td>\n",
       "      <td>Frecuentemente</td>\n",
       "      <td>3</td>\n",
       "      <td>4</td>\n",
       "      <td>Femenino</td>\n",
       "      <td>1</td>\n",
       "      <td>Casado</td>\n",
       "      <td>2909</td>\n",
       "      <td>1</td>\n",
       "      <td>SI</td>\n",
       "      <td>3</td>\n",
       "      <td>8</td>\n",
       "      <td>8</td>\n",
       "      <td>7</td>\n",
       "      <td>3</td>\n",
       "      <td>0</td>\n",
       "    </tr>\n",
       "    <tr>\n",
       "      <th>4</th>\n",
       "      <td>27</td>\n",
       "      <td>NO</td>\n",
       "      <td>Ocasional</td>\n",
       "      <td>2</td>\n",
       "      <td>1</td>\n",
       "      <td>Masculino</td>\n",
       "      <td>1</td>\n",
       "      <td>Casado</td>\n",
       "      <td>3468</td>\n",
       "      <td>9</td>\n",
       "      <td>NO</td>\n",
       "      <td>4</td>\n",
       "      <td>6</td>\n",
       "      <td>2</td>\n",
       "      <td>2</td>\n",
       "      <td>2</td>\n",
       "      <td>2</td>\n",
       "    </tr>\n",
       "  </tbody>\n",
       "</table>\n",
       "</div>"
      ],
      "text/plain": [
       "   Edad Renuncia   Viaje_negocio  Distacia_desde_casa  Satisfacción_ambiente  \\\n",
       "0    41       SI       Ocasional                    1                      2   \n",
       "1    49       NO  Frecuentemente                    8                      3   \n",
       "2    37       SI       Ocasional                    2                      4   \n",
       "3    33       NO  Frecuentemente                    3                      4   \n",
       "4    27       NO       Ocasional                    2                      1   \n",
       "\n",
       "      Género  Nivel_trabajo Estatus_marital  Salario_mensual  \\\n",
       "0   Femenino              2         Soltero             5993   \n",
       "1  Masculino              2          Casado             5130   \n",
       "2  Masculino              1         Soltero             2090   \n",
       "3   Femenino              1          Casado             2909   \n",
       "4  Masculino              1          Casado             3468   \n",
       "\n",
       "   No_Compañías_anteriores Sobretiempo  Satisfacción_relaciones  Años_trabajo  \\\n",
       "0                        8          SI                        1             8   \n",
       "1                        1          NO                        4            10   \n",
       "2                        6          SI                        2             7   \n",
       "3                        1          SI                        3             8   \n",
       "4                        9          NO                        4             6   \n",
       "\n",
       "   Antigüedad  Años_cargo_actual  Última_promoción  Años_manager_actual  \n",
       "0           6                  4                 0                    5  \n",
       "1          10                  7                 1                    7  \n",
       "2           0                  0                 0                    0  \n",
       "3           8                  7                 3                    0  \n",
       "4           2                  2                 2                    2  "
      ]
     },
     "execution_count": 4,
     "metadata": {},
     "output_type": "execute_result"
    }
   ],
   "source": [
    "# Mostrar los datos\n",
    "data.head()"
   ]
  },
  {
   "cell_type": "markdown",
   "metadata": {},
   "source": [
    "### 2. Limpieza y preparación de los datos\n",
    "\n",
    "Primero vamos a ejecutar los pasos de limpieza de los datos, relacionados con la eliminación de registros con ausencias y duplicados."
   ]
  },
  {
   "cell_type": "code",
   "execution_count": 5,
   "metadata": {},
   "outputs": [],
   "source": [
    "# Es recomendable que todos los pasos de limpieza y preparación se realicen sobre otro archivo.\n",
    "data_t = data\n",
    "# Eliminación data vacía\n",
    "data_t=data_t.dropna()\n",
    "# Eliminación de registros duplicados.\n",
    "data_t=data_t.drop_duplicates()"
   ]
  },
  {
   "cell_type": "markdown",
   "metadata": {},
   "source": [
    "Un aspecto muy importante para tener en cuenta son los requerimientos de entrada de los algoritmos de aprendizaje implementados en las librerías utilizadas. En particular, scikit-learn requiere que todos los atributos sean numéricos y que la variable objetivo esté codificada con números."
   ]
  },
  {
   "cell_type": "code",
   "execution_count": 6,
   "metadata": {},
   "outputs": [],
   "source": [
    "# Transformación de las variables de entrada.\n",
    "data_t = pd.get_dummies(data_t, columns=['Viaje_negocio','Género', 'Estatus_marital', 'Sobretiempo' ])"
   ]
  },
  {
   "cell_type": "code",
   "execution_count": 7,
   "metadata": {},
   "outputs": [],
   "source": [
    "# Para hacer la transformación o codificación de la variable objetivo utilizaremos la función labelEncoder. Es importante \n",
    "# que tengas en cuenta que, aunque la representación de esta variable sea numérica, la tarea a resolver seguirá siendo \n",
    "# una clasificación.\n",
    "# Primero tenemos que generar el objeto\n",
    "codificacion = LabelEncoder()\n",
    "# Ahora se ajusta a los datos\n",
    "data_t['Renuncia']=codificacion.fit_transform(data_t['Renuncia'])"
   ]
  },
  {
   "cell_type": "code",
   "execution_count": 8,
   "metadata": {},
   "outputs": [
    {
     "data": {
      "text/html": [
       "<div>\n",
       "<style scoped>\n",
       "    .dataframe tbody tr th:only-of-type {\n",
       "        vertical-align: middle;\n",
       "    }\n",
       "\n",
       "    .dataframe tbody tr th {\n",
       "        vertical-align: top;\n",
       "    }\n",
       "\n",
       "    .dataframe thead th {\n",
       "        text-align: right;\n",
       "    }\n",
       "</style>\n",
       "<table border=\"1\" class=\"dataframe\">\n",
       "  <thead>\n",
       "    <tr style=\"text-align: right;\">\n",
       "      <th></th>\n",
       "      <th>Edad</th>\n",
       "      <th>Renuncia</th>\n",
       "      <th>Distacia_desde_casa</th>\n",
       "      <th>Satisfacción_ambiente</th>\n",
       "      <th>Nivel_trabajo</th>\n",
       "      <th>Salario_mensual</th>\n",
       "      <th>No_Compañías_anteriores</th>\n",
       "      <th>Satisfacción_relaciones</th>\n",
       "      <th>Años_trabajo</th>\n",
       "      <th>Antigüedad</th>\n",
       "      <th>...</th>\n",
       "      <th>Viaje_negocio_Frecuentemente</th>\n",
       "      <th>Viaje_negocio_No-viaja</th>\n",
       "      <th>Viaje_negocio_Ocasional</th>\n",
       "      <th>Género_Femenino</th>\n",
       "      <th>Género_Masculino</th>\n",
       "      <th>Estatus_marital_Casado</th>\n",
       "      <th>Estatus_marital_Divorciado</th>\n",
       "      <th>Estatus_marital_Soltero</th>\n",
       "      <th>Sobretiempo_NO</th>\n",
       "      <th>Sobretiempo_SI</th>\n",
       "    </tr>\n",
       "  </thead>\n",
       "  <tbody>\n",
       "    <tr>\n",
       "      <th>0</th>\n",
       "      <td>41</td>\n",
       "      <td>1</td>\n",
       "      <td>1</td>\n",
       "      <td>2</td>\n",
       "      <td>2</td>\n",
       "      <td>5993</td>\n",
       "      <td>8</td>\n",
       "      <td>1</td>\n",
       "      <td>8</td>\n",
       "      <td>6</td>\n",
       "      <td>...</td>\n",
       "      <td>0</td>\n",
       "      <td>0</td>\n",
       "      <td>1</td>\n",
       "      <td>1</td>\n",
       "      <td>0</td>\n",
       "      <td>0</td>\n",
       "      <td>0</td>\n",
       "      <td>1</td>\n",
       "      <td>0</td>\n",
       "      <td>1</td>\n",
       "    </tr>\n",
       "    <tr>\n",
       "      <th>1</th>\n",
       "      <td>49</td>\n",
       "      <td>0</td>\n",
       "      <td>8</td>\n",
       "      <td>3</td>\n",
       "      <td>2</td>\n",
       "      <td>5130</td>\n",
       "      <td>1</td>\n",
       "      <td>4</td>\n",
       "      <td>10</td>\n",
       "      <td>10</td>\n",
       "      <td>...</td>\n",
       "      <td>1</td>\n",
       "      <td>0</td>\n",
       "      <td>0</td>\n",
       "      <td>0</td>\n",
       "      <td>1</td>\n",
       "      <td>1</td>\n",
       "      <td>0</td>\n",
       "      <td>0</td>\n",
       "      <td>1</td>\n",
       "      <td>0</td>\n",
       "    </tr>\n",
       "    <tr>\n",
       "      <th>2</th>\n",
       "      <td>37</td>\n",
       "      <td>1</td>\n",
       "      <td>2</td>\n",
       "      <td>4</td>\n",
       "      <td>1</td>\n",
       "      <td>2090</td>\n",
       "      <td>6</td>\n",
       "      <td>2</td>\n",
       "      <td>7</td>\n",
       "      <td>0</td>\n",
       "      <td>...</td>\n",
       "      <td>0</td>\n",
       "      <td>0</td>\n",
       "      <td>1</td>\n",
       "      <td>0</td>\n",
       "      <td>1</td>\n",
       "      <td>0</td>\n",
       "      <td>0</td>\n",
       "      <td>1</td>\n",
       "      <td>0</td>\n",
       "      <td>1</td>\n",
       "    </tr>\n",
       "    <tr>\n",
       "      <th>3</th>\n",
       "      <td>33</td>\n",
       "      <td>0</td>\n",
       "      <td>3</td>\n",
       "      <td>4</td>\n",
       "      <td>1</td>\n",
       "      <td>2909</td>\n",
       "      <td>1</td>\n",
       "      <td>3</td>\n",
       "      <td>8</td>\n",
       "      <td>8</td>\n",
       "      <td>...</td>\n",
       "      <td>1</td>\n",
       "      <td>0</td>\n",
       "      <td>0</td>\n",
       "      <td>1</td>\n",
       "      <td>0</td>\n",
       "      <td>1</td>\n",
       "      <td>0</td>\n",
       "      <td>0</td>\n",
       "      <td>0</td>\n",
       "      <td>1</td>\n",
       "    </tr>\n",
       "    <tr>\n",
       "      <th>4</th>\n",
       "      <td>27</td>\n",
       "      <td>0</td>\n",
       "      <td>2</td>\n",
       "      <td>1</td>\n",
       "      <td>1</td>\n",
       "      <td>3468</td>\n",
       "      <td>9</td>\n",
       "      <td>4</td>\n",
       "      <td>6</td>\n",
       "      <td>2</td>\n",
       "      <td>...</td>\n",
       "      <td>0</td>\n",
       "      <td>0</td>\n",
       "      <td>1</td>\n",
       "      <td>0</td>\n",
       "      <td>1</td>\n",
       "      <td>1</td>\n",
       "      <td>0</td>\n",
       "      <td>0</td>\n",
       "      <td>1</td>\n",
       "      <td>0</td>\n",
       "    </tr>\n",
       "  </tbody>\n",
       "</table>\n",
       "<p>5 rows × 23 columns</p>\n",
       "</div>"
      ],
      "text/plain": [
       "   Edad  Renuncia  Distacia_desde_casa  Satisfacción_ambiente  Nivel_trabajo  \\\n",
       "0    41         1                    1                      2              2   \n",
       "1    49         0                    8                      3              2   \n",
       "2    37         1                    2                      4              1   \n",
       "3    33         0                    3                      4              1   \n",
       "4    27         0                    2                      1              1   \n",
       "\n",
       "   Salario_mensual  No_Compañías_anteriores  Satisfacción_relaciones  \\\n",
       "0             5993                        8                        1   \n",
       "1             5130                        1                        4   \n",
       "2             2090                        6                        2   \n",
       "3             2909                        1                        3   \n",
       "4             3468                        9                        4   \n",
       "\n",
       "   Años_trabajo  Antigüedad  ...  Viaje_negocio_Frecuentemente  \\\n",
       "0             8           6  ...                             0   \n",
       "1            10          10  ...                             1   \n",
       "2             7           0  ...                             0   \n",
       "3             8           8  ...                             1   \n",
       "4             6           2  ...                             0   \n",
       "\n",
       "   Viaje_negocio_No-viaja  Viaje_negocio_Ocasional  Género_Femenino  \\\n",
       "0                       0                        1                1   \n",
       "1                       0                        0                0   \n",
       "2                       0                        1                0   \n",
       "3                       0                        0                1   \n",
       "4                       0                        1                0   \n",
       "\n",
       "   Género_Masculino  Estatus_marital_Casado  Estatus_marital_Divorciado  \\\n",
       "0                 0                       0                           0   \n",
       "1                 1                       1                           0   \n",
       "2                 1                       0                           0   \n",
       "3                 0                       1                           0   \n",
       "4                 1                       1                           0   \n",
       "\n",
       "   Estatus_marital_Soltero  Sobretiempo_NO  Sobretiempo_SI  \n",
       "0                        1               0               1  \n",
       "1                        0               1               0  \n",
       "2                        1               0               1  \n",
       "3                        0               0               1  \n",
       "4                        0               1               0  \n",
       "\n",
       "[5 rows x 23 columns]"
      ]
     },
     "execution_count": 8,
     "metadata": {},
     "output_type": "execute_result"
    }
   ],
   "source": [
    "# Podemos ver cómo quedaron nuestro datos\n",
    "data_t.head()"
   ]
  },
  {
   "cell_type": "code",
   "execution_count": 9,
   "metadata": {},
   "outputs": [
    {
     "data": {
      "text/plain": [
       "(1470, 23)"
      ]
     },
     "execution_count": 9,
     "metadata": {},
     "output_type": "execute_result"
    }
   ],
   "source": [
    "#revisión del total de registros\n",
    "data_t.shape"
   ]
  },
  {
   "cell_type": "markdown",
   "metadata": {},
   "source": [
    "### 3. Construcción del modelo\n",
    "\n",
    "Los algoritmos supervisados implementados en scikit-learn requieren que las variables de entrada estén separadas de la variable objetivo. "
   ]
  },
  {
   "cell_type": "code",
   "execution_count": 10,
   "metadata": {},
   "outputs": [],
   "source": [
    "# Se selecciona la variable objetivo, en este caso \"Renuncia\".\n",
    "Y=data_t['Renuncia']\n",
    "# Del conjunto de datos se elimina la variable \"Renuncia\".\n",
    "X=data_t.drop(['Renuncia'], axis=1)"
   ]
  },
  {
   "cell_type": "code",
   "execution_count": 11,
   "metadata": {},
   "outputs": [],
   "source": [
    "# Dividir los datos en entrenamiento y test\n",
    "X_train, X_test, Y_train, Y_test = train_test_split(X, Y, test_size=0.2, random_state=0)"
   ]
  },
  {
   "cell_type": "code",
   "execution_count": 12,
   "metadata": {},
   "outputs": [],
   "source": [
    "# Crear el objeto de arbol de decisión. Utilicemos como criterio de pureza la entropía.\n",
    "arbol = DecisionTreeClassifier(criterion='entropy', random_state=0)"
   ]
  },
  {
   "cell_type": "code",
   "execution_count": 13,
   "metadata": {},
   "outputs": [],
   "source": [
    "# Entrenar el modelo de arbol de decisión con los datos de entrenamiento\n",
    "arbol = arbol.fit(X_train,Y_train)"
   ]
  },
  {
   "cell_type": "markdown",
   "metadata": {},
   "source": [
    "Para determinar el rendimiento del modelo podemos en primer lugar, generar la matriz de confusión."
   ]
  },
  {
   "cell_type": "code",
   "execution_count": 14,
   "metadata": {},
   "outputs": [],
   "source": [
    "# Determinamos las predicciones del modelo sobre el conjunto test.\n",
    "y_pred = arbol.predict(X_test)"
   ]
  },
  {
   "cell_type": "code",
   "execution_count": 15,
   "metadata": {},
   "outputs": [
    {
     "data": {
      "text/plain": [
       "array([[212,  33],\n",
       "       [ 33,  16]], dtype=int64)"
      ]
     },
     "execution_count": 15,
     "metadata": {},
     "output_type": "execute_result"
    }
   ],
   "source": [
    "# Se genera la matriz de confusión\n",
    "confusion_matrix(Y_test, y_pred)"
   ]
  },
  {
   "cell_type": "code",
   "execution_count": 16,
   "metadata": {},
   "outputs": [
    {
     "data": {
      "image/png": "[encoded data removed]",
      "text/plain": [
       "<Figure size 432x288 with 2 Axes>"
      ]
     },
     "metadata": {
      "needs_background": "light"
     },
     "output_type": "display_data"
    }
   ],
   "source": [
    "# Se puede visualizar la matriz de confusión\n",
    "plot_confusion_matrix(arbol, X_test, Y_test)  \n",
    "plt.show()  "
   ]
  },
  {
   "cell_type": "markdown",
   "metadata": {},
   "source": [
    "También podemos generar diferentes métricas de rendimiento, como el recall, la precisión y la puntuación F1. "
   ]
  },
  {
   "cell_type": "code",
   "execution_count": 17,
   "metadata": {},
   "outputs": [
    {
     "name": "stdout",
     "output_type": "stream",
     "text": [
      "Exactitud: 0.78\n",
      "Recall: 0.32653061224489793\n",
      "Precisión: 0.32653061224489793\n",
      "Puntuación F1: 0.32653061224489793\n"
     ]
    }
   ],
   "source": [
    "print('Exactitud: %.2f' % accuracy_score(Y_test, y_pred))\n",
    "print(\"Recall: {}\".format(recall_score(Y_test,y_pred)))\n",
    "print(\"Precisión: {}\".format(precision_score(Y_test,y_pred)))\n",
    "print(\"Puntuación F1: {}\".format(f1_score(Y_test,y_pred)))"
   ]
  },
  {
   "cell_type": "markdown",
   "metadata": {},
   "source": [
    "Para tener una panorama completo podemos generar un reporte."
   ]
  },
  {
   "cell_type": "code",
   "execution_count": 18,
   "metadata": {},
   "outputs": [
    {
     "name": "stdout",
     "output_type": "stream",
     "text": [
      "              precision    recall  f1-score   support\n",
      "\n",
      "           0       0.87      0.87      0.87       245\n",
      "           1       0.33      0.33      0.33        49\n",
      "\n",
      "    accuracy                           0.78       294\n",
      "   macro avg       0.60      0.60      0.60       294\n",
      "weighted avg       0.78      0.78      0.78       294\n",
      "\n"
     ]
    }
   ],
   "source": [
    "# Mostrar reporte de clasificación\n",
    "print(classification_report(Y_test, y_pred))"
   ]
  },
  {
   "cell_type": "markdown",
   "metadata": {},
   "source": [
    "Podemos observar que, a pesar de que la medida global de exactitud ofrece un rendimiento de 78% de clasificaciones correctas, este no se refleja en la clase minoritaria (Renuncia = 1). Esto es debido al desbalance entre las clases. \n",
    "\n",
    "En general, el desbalance entre las clases en un conjunto de datos puede presentarse por diversas razones, algunas de ellas relacionadas con la naturaleza del problema, donde este desbalance es el resultado directo de las características de la población que genera los datos o el costo y/o dificultad en la obtención de datos de la clase de interés. \n",
    "\n",
    "En estos escenarios es muy importante obtener modelos que exhiban un buen rendimiento de predicción sobre la clase minoritaria ya que esta, por lo general, representa el objetivo o target de la tarea de clasificación. Sin embargo, los algoritmos de aprendizaje tradicionales tenderán a producir una solución que sólo tendrá un buen desempeño sobre la clase mayoritaria. Esto es debido a que están diseñados para inducir un modelo de clasificación basado en el error que se comete sobre todo el conjunto de entrenamiento, sin tomar en cuenta la representatividad o balance de las clases.\n",
    "\n",
    "Para resolver este problema se han propuesto diversas estrategias como el remuestreo del conjunto de datos o la construcción de clasificadores que tomen en cuenta el costo de los errores sobre las diferentes clases. En particular, para árboles de decisión, scikit-learn ofrece la posibilidad de indicarle al algoritmo que maneje el desbalance internamente con el parámetro \"class_weight\". Veamos como usarlo:"
   ]
  },
  {
   "cell_type": "code",
   "execution_count": 19,
   "metadata": {},
   "outputs": [
    {
     "name": "stdout",
     "output_type": "stream",
     "text": [
      "              precision    recall  f1-score   support\n",
      "\n",
      "           0       0.87      0.87      0.87       245\n",
      "           1       0.34      0.35      0.34        49\n",
      "\n",
      "    accuracy                           0.78       294\n",
      "   macro avg       0.60      0.61      0.61       294\n",
      "weighted avg       0.78      0.78      0.78       294\n",
      "\n"
     ]
    }
   ],
   "source": [
    "# Crear el objeto de arbol de decisión. Utilicemos como criterio de pureza la entropía.\n",
    "arbol = DecisionTreeClassifier(criterion='entropy', class_weight='balanced', random_state=0)\n",
    "arbol = arbol.fit(X_train,Y_train)\n",
    "y_pred = arbol.predict(X_test)\n",
    "print(classification_report(Y_test, y_pred))"
   ]
  },
  {
   "cell_type": "markdown",
   "metadata": {},
   "source": [
    "Vemos que mejora un poco el rendimiento sobre la clase minoritaria. También podrías aplicar técnicas de remuestreo, pero su estudio está fuera del alcance de este curso. Sin embargo, para mayor información puedes revisar el siguiente enlace \"https://imbalanced-learn.org/stable/\"."
   ]
  },
  {
   "cell_type": "markdown",
   "metadata": {},
   "source": [
    "### 4. Construcción del modelos con búsqueda de hiperparámetros.\n",
    "En el caso de los árboles de decisión los hiperparámetros principales que hay que ajustar están relacionados con aquellos que controlan la complejidad, pero también el criterio o medida de pureza puede afectar su rendimiento. En general, estos son:  \n",
    "\n",
    "* **criterion** : {“gini”, “entropy”}, predeterminado = \"gini\".\n",
    "\n",
    "La función para medir la calidad de una división. Los criterios admitidos son \"gini\" y \"entropía\".\n",
    "\n",
    "* **max_depth:** int, predeterminado=None.\n",
    "\n",
    "La profundidad máxima del árbol. Si es None, los nodos se expanden hasta que todas las hojas sean puras o hasta que todas las hojas contengan menos de min_samples_split muestras.\n",
    "\n",
    "* **min_samples_split** : int or float, predeterminado=2.\n",
    "\n",
    "El número mínimo de muestras necesarias para dividir un nodo interno\n",
    "\n",
    "Para determinar los mejores valores de estos hiperparámetros vamos a realizar la búsqueda utilizando la función GridSearchCV."
   ]
  },
  {
   "cell_type": "code",
   "execution_count": 20,
   "metadata": {},
   "outputs": [],
   "source": [
    "# Fijemos el número de particiones. Utilizaremos K = 10.\n",
    "particiones = KFold(n_splits=10, shuffle=True, random_state = 0)"
   ]
  },
  {
   "cell_type": "code",
   "execution_count": 21,
   "metadata": {},
   "outputs": [],
   "source": [
    "# Establecemos el espacio de búsqueda para los hiperparámetros que deseamos ajustar. \n",
    "param_grid = {'criterion':['gini', 'entropy'],'max_depth':[4,6,8,10],'min_samples_split':[2, 3, 4, 5]}"
   ]
  },
  {
   "cell_type": "code",
   "execution_count": 22,
   "metadata": {},
   "outputs": [],
   "source": [
    "# Definimos el modelo sin ningún valor de estos hiperparámetros\n",
    "arbol = DecisionTreeClassifier(class_weight='balanced', random_state=0)"
   ]
  },
  {
   "cell_type": "code",
   "execution_count": 23,
   "metadata": {},
   "outputs": [
    {
     "data": {
      "text/plain": [
       "GridSearchCV(cv=KFold(n_splits=10, random_state=0, shuffle=True),\n",
       "             estimator=DecisionTreeClassifier(class_weight='balanced',\n",
       "                                              random_state=0),\n",
       "             param_grid={'criterion': ['gini', 'entropy'],\n",
       "                         'max_depth': [4, 6, 8, 10],\n",
       "                         'min_samples_split': [2, 3, 4, 5]})"
      ]
     },
     "execution_count": 23,
     "metadata": {},
     "output_type": "execute_result"
    }
   ],
   "source": [
    "# Ahora utilizamos GridSearch sobre el grid definido y con 10 particiones en la validación cruzada.\n",
    "mejor_modelo = GridSearchCV(arbol, param_grid, cv=particiones)\n",
    "# Ajuste del modelo\n",
    "mejor_modelo.fit(X_train, Y_train)"
   ]
  },
  {
   "cell_type": "code",
   "execution_count": 24,
   "metadata": {},
   "outputs": [
    {
     "data": {
      "text/plain": [
       "{'criterion': 'entropy', 'max_depth': 10, 'min_samples_split': 2}"
      ]
     },
     "execution_count": 24,
     "metadata": {},
     "output_type": "execute_result"
    }
   ],
   "source": [
    "# Podemos ver cual fue el resultado de la búsqueda (mejores valores de hiperparámetros)\n",
    "mejor_modelo.best_params_"
   ]
  },
  {
   "cell_type": "code",
   "execution_count": 25,
   "metadata": {},
   "outputs": [
    {
     "name": "stdout",
     "output_type": "stream",
     "text": [
      "              precision    recall  f1-score   support\n",
      "\n",
      "           0       0.88      0.83      0.85       245\n",
      "           1       0.34      0.45      0.39        49\n",
      "\n",
      "    accuracy                           0.77       294\n",
      "   macro avg       0.61      0.64      0.62       294\n",
      "weighted avg       0.79      0.77      0.78       294\n",
      "\n"
     ]
    }
   ],
   "source": [
    "# Obtener el mejor modelo.\n",
    "modelo_final = mejor_modelo.best_estimator_\n",
    "# Probemos ahora este modelo sobre test.\n",
    "y_pred = modelo_final.predict(X_test)\n",
    "print(classification_report(Y_test, y_pred))"
   ]
  },
  {
   "cell_type": "markdown",
   "metadata": {},
   "source": [
    "### 5. Predicciones y probabilidad\n",
    "\n",
    "Una vez obtenido el modelo de árbol de decisión también podríamos obtener la probabilidad de que un dato sea clasificado como de una clase particular. "
   ]
  },
  {
   "cell_type": "code",
   "execution_count": 26,
   "metadata": {},
   "outputs": [],
   "source": [
    "# Por ejemplo, tomemos un dato del conjunto de test y apliquemos el método \"predict_proba\".\n",
    "y_pred_test = modelo_final.predict_proba(X_test.iloc[[20]])"
   ]
  },
  {
   "cell_type": "code",
   "execution_count": 27,
   "metadata": {},
   "outputs": [
    {
     "name": "stdout",
     "output_type": "stream",
     "text": [
      "[[0.10801051 0.89198949]]\n"
     ]
    }
   ],
   "source": [
    "print(y_pred_test)"
   ]
  },
  {
   "cell_type": "code",
   "execution_count": 28,
   "metadata": {},
   "outputs": [
    {
     "data": {
      "text/plain": [
       "array([0, 1])"
      ]
     },
     "execution_count": 28,
     "metadata": {},
     "output_type": "execute_result"
    }
   ],
   "source": [
    "# Para saber el orden de las clases puedes utilizar el atributo \"classes_\" del modelo:\n",
    "modelo_final.classes_"
   ]
  },
  {
   "cell_type": "markdown",
   "metadata": {},
   "source": [
    "[![Banner-Modelos.png](https://i.postimg.cc/RCgy2XdL/Banner-Modelos.png)](https://postimg.cc/PN8SwbBC)"
   ]
  }
 ],
 "metadata": {
  "kernelspec": {
   "display_name": "Python 3 (ipykernel)",
   "language": "python",
   "name": "python3"
  },
  "language_info": {
   "codemirror_mode": {
    "name": "ipython",
    "version": 3
   },
   "file_extension": ".py",
   "mimetype": "text/x-python",
   "name": "python",
   "nbconvert_exporter": "python",
   "pygments_lexer": "ipython3",
   "version": "3.9.12"
  }
 },
 "nbformat": 4,
 "nbformat_minor": 2
}
