{
 "cells": [
  {
   "cell_type": "markdown",
   "metadata": {},
   "source": [
    "[![Banner-Modelos.png](https://i.postimg.cc/RCgy2XdL/Banner-Modelos.png)](https://postimg.cc/PN8SwbBC)"
   ]
  },
  {
   "cell_type": "markdown",
   "metadata": {},
   "source": [
    "## L2: Árboles de decisión. Construcción e interpretación.\n",
    "\n",
    "El objetivo de este notebook es aplicar los conocimientos adquiridos sobre la construcción de modelos basados en árboles de decisión y su interpretación. Se explicará, paso a paso, como: \n",
    "\n",
    "1. Preparar los datos para el modelado \n",
    "2. Crear un modelo de árbol de decisión.\n",
    "3. Determinar los atributos más importantes según el modelo. \n",
    "\n",
    "El ejemplo que será utilizado, de acuerdo con el caso de uso del sector retail, está relacionado con la deserción de empleados.\n",
    "\n",
    "Además, puedes utilizar este notebook como guía para la solución de los problemas que se propongan en los ejercicios prácticos y para el proyecto."
   ]
  },
  {
   "cell_type": "markdown",
   "metadata": {},
   "source": [
    "###### Autores: David Ocampo (d.ocampo@uniandes.edu.co), Julián Montoya (jc.montoyar@uniandes.edu.co)"
   ]
  },
  {
   "cell_type": "markdown",
   "metadata": {},
   "source": [
    "### 1. Importación de librerías \n",
    "\n",
    "En las siguientes líneas de código se importan las librerías y herramientas necesarias para desarrollar el caso de uso."
   ]
  },
  {
   "cell_type": "code",
   "execution_count": 1,
   "metadata": {},
   "outputs": [],
   "source": [
    "# Librerías para manejo de datos\n",
    "import pandas as pd\n",
    "# Para preparar los datos\n",
    "from sklearn.preprocessing import LabelEncoder\n",
    "# Para crear el arbol de decisión \n",
    "from sklearn.tree import DecisionTreeClassifier \n",
    "# Para realizar la separación del conjunto de aprendizaje en entrenamiento y test.\n",
    "from sklearn.model_selection import train_test_split\n",
    "# Para evaluar el modelo\n",
    "from sklearn.metrics import accuracy_score\n",
    "#Librerías para visualizar el arbol de decisión\n",
    "import matplotlib.pyplot as plt\n",
    "from sklearn import tree"
   ]
  },
  {
   "cell_type": "markdown",
   "metadata": {},
   "source": [
    "### 2. Carga de los datos\n",
    "A través de la librería **pandas** podemos realizar la carga de datos desde diferentes fuentes de información, en este caso se realizará la carga de un archivo plano csv (archivo separado por comas)."
   ]
  },
  {
   "cell_type": "code",
   "execution_count": 2,
   "metadata": {},
   "outputs": [],
   "source": [
    "# Se cargan los datos. \n",
    "data=pd.read_csv('Datos_C2_Modelos_M4.csv', sep=';', encoding = 'utf-8')"
   ]
  },
  {
   "cell_type": "code",
   "execution_count": 3,
   "metadata": {},
   "outputs": [
    {
     "data": {
      "text/plain": [
       "(1470, 17)"
      ]
     },
     "execution_count": 3,
     "metadata": {},
     "output_type": "execute_result"
    }
   ],
   "source": [
    "# Cantidad de datos y número de variables\n",
    "data.shape"
   ]
  },
  {
   "cell_type": "code",
   "execution_count": 4,
   "metadata": {},
   "outputs": [
    {
     "data": {
      "text/html": [
       "<div>\n",
       "<style scoped>\n",
       "    .dataframe tbody tr th:only-of-type {\n",
       "        vertical-align: middle;\n",
       "    }\n",
       "\n",
       "    .dataframe tbody tr th {\n",
       "        vertical-align: top;\n",
       "    }\n",
       "\n",
       "    .dataframe thead th {\n",
       "        text-align: right;\n",
       "    }\n",
       "</style>\n",
       "<table border=\"1\" class=\"dataframe\">\n",
       "  <thead>\n",
       "    <tr style=\"text-align: right;\">\n",
       "      <th></th>\n",
       "      <th>Edad</th>\n",
       "      <th>Renuncia</th>\n",
       "      <th>Viaje_negocio</th>\n",
       "      <th>Distacia_desde_casa</th>\n",
       "      <th>Satisfacción_ambiente</th>\n",
       "      <th>Género</th>\n",
       "      <th>Nivel_trabajo</th>\n",
       "      <th>Estatus_marital</th>\n",
       "      <th>Salario_mensual</th>\n",
       "      <th>No_Compañías_anteriores</th>\n",
       "      <th>Sobretiempo</th>\n",
       "      <th>Satisfacción_relaciones</th>\n",
       "      <th>Años_trabajo</th>\n",
       "      <th>Antigüedad</th>\n",
       "      <th>Años_cargo_actual</th>\n",
       "      <th>Última_promoción</th>\n",
       "      <th>Años_manager_actual</th>\n",
       "    </tr>\n",
       "  </thead>\n",
       "  <tbody>\n",
       "    <tr>\n",
       "      <th>0</th>\n",
       "      <td>41</td>\n",
       "      <td>SI</td>\n",
       "      <td>Ocasional</td>\n",
       "      <td>1</td>\n",
       "      <td>2</td>\n",
       "      <td>Femenino</td>\n",
       "      <td>2</td>\n",
       "      <td>Soltero</td>\n",
       "      <td>5993</td>\n",
       "      <td>8</td>\n",
       "      <td>SI</td>\n",
       "      <td>1</td>\n",
       "      <td>8</td>\n",
       "      <td>6</td>\n",
       "      <td>4</td>\n",
       "      <td>0</td>\n",
       "      <td>5</td>\n",
       "    </tr>\n",
       "    <tr>\n",
       "      <th>1</th>\n",
       "      <td>49</td>\n",
       "      <td>NO</td>\n",
       "      <td>Frecuentemente</td>\n",
       "      <td>8</td>\n",
       "      <td>3</td>\n",
       "      <td>Masculino</td>\n",
       "      <td>2</td>\n",
       "      <td>Casado</td>\n",
       "      <td>5130</td>\n",
       "      <td>1</td>\n",
       "      <td>NO</td>\n",
       "      <td>4</td>\n",
       "      <td>10</td>\n",
       "      <td>10</td>\n",
       "      <td>7</td>\n",
       "      <td>1</td>\n",
       "      <td>7</td>\n",
       "    </tr>\n",
       "    <tr>\n",
       "      <th>2</th>\n",
       "      <td>37</td>\n",
       "      <td>SI</td>\n",
       "      <td>Ocasional</td>\n",
       "      <td>2</td>\n",
       "      <td>4</td>\n",
       "      <td>Masculino</td>\n",
       "      <td>1</td>\n",
       "      <td>Soltero</td>\n",
       "      <td>2090</td>\n",
       "      <td>6</td>\n",
       "      <td>SI</td>\n",
       "      <td>2</td>\n",
       "      <td>7</td>\n",
       "      <td>0</td>\n",
       "      <td>0</td>\n",
       "      <td>0</td>\n",
       "      <td>0</td>\n",
       "    </tr>\n",
       "    <tr>\n",
       "      <th>3</th>\n",
       "      <td>33</td>\n",
       "      <td>NO</td>\n",
       "      <td>Frecuentemente</td>\n",
       "      <td>3</td>\n",
       "      <td>4</td>\n",
       "      <td>Femenino</td>\n",
       "      <td>1</td>\n",
       "      <td>Casado</td>\n",
       "      <td>2909</td>\n",
       "      <td>1</td>\n",
       "      <td>SI</td>\n",
       "      <td>3</td>\n",
       "      <td>8</td>\n",
       "      <td>8</td>\n",
       "      <td>7</td>\n",
       "      <td>3</td>\n",
       "      <td>0</td>\n",
       "    </tr>\n",
       "    <tr>\n",
       "      <th>4</th>\n",
       "      <td>27</td>\n",
       "      <td>NO</td>\n",
       "      <td>Ocasional</td>\n",
       "      <td>2</td>\n",
       "      <td>1</td>\n",
       "      <td>Masculino</td>\n",
       "      <td>1</td>\n",
       "      <td>Casado</td>\n",
       "      <td>3468</td>\n",
       "      <td>9</td>\n",
       "      <td>NO</td>\n",
       "      <td>4</td>\n",
       "      <td>6</td>\n",
       "      <td>2</td>\n",
       "      <td>2</td>\n",
       "      <td>2</td>\n",
       "      <td>2</td>\n",
       "    </tr>\n",
       "  </tbody>\n",
       "</table>\n",
       "</div>"
      ],
      "text/plain": [
       "   Edad Renuncia   Viaje_negocio  Distacia_desde_casa  Satisfacción_ambiente  \\\n",
       "0    41       SI       Ocasional                    1                      2   \n",
       "1    49       NO  Frecuentemente                    8                      3   \n",
       "2    37       SI       Ocasional                    2                      4   \n",
       "3    33       NO  Frecuentemente                    3                      4   \n",
       "4    27       NO       Ocasional                    2                      1   \n",
       "\n",
       "      Género  Nivel_trabajo Estatus_marital  Salario_mensual  \\\n",
       "0   Femenino              2         Soltero             5993   \n",
       "1  Masculino              2          Casado             5130   \n",
       "2  Masculino              1         Soltero             2090   \n",
       "3   Femenino              1          Casado             2909   \n",
       "4  Masculino              1          Casado             3468   \n",
       "\n",
       "   No_Compañías_anteriores Sobretiempo  Satisfacción_relaciones  Años_trabajo  \\\n",
       "0                        8          SI                        1             8   \n",
       "1                        1          NO                        4            10   \n",
       "2                        6          SI                        2             7   \n",
       "3                        1          SI                        3             8   \n",
       "4                        9          NO                        4             6   \n",
       "\n",
       "   Antigüedad  Años_cargo_actual  Última_promoción  Años_manager_actual  \n",
       "0           6                  4                 0                    5  \n",
       "1          10                  7                 1                    7  \n",
       "2           0                  0                 0                    0  \n",
       "3           8                  7                 3                    0  \n",
       "4           2                  2                 2                    2  "
      ]
     },
     "execution_count": 4,
     "metadata": {},
     "output_type": "execute_result"
    }
   ],
   "source": [
    "# Mostrar los datos\n",
    "data.head()"
   ]
  },
  {
   "cell_type": "markdown",
   "metadata": {},
   "source": [
    "### 3. Describir los datos\n",
    "Ahora podemos hacer una descripción más detallada de nuestros datos.Ten en cuenta que este paso es muy importante para poder determinar problemas de calidad de datos. Además, nos dará información que será útil en la fase de preparación de datos."
   ]
  },
  {
   "cell_type": "code",
   "execution_count": 5,
   "metadata": {},
   "outputs": [
    {
     "data": {
      "text/html": [
       "<div>\n",
       "<style scoped>\n",
       "    .dataframe tbody tr th:only-of-type {\n",
       "        vertical-align: middle;\n",
       "    }\n",
       "\n",
       "    .dataframe tbody tr th {\n",
       "        vertical-align: top;\n",
       "    }\n",
       "\n",
       "    .dataframe thead th {\n",
       "        text-align: right;\n",
       "    }\n",
       "</style>\n",
       "<table border=\"1\" class=\"dataframe\">\n",
       "  <thead>\n",
       "    <tr style=\"text-align: right;\">\n",
       "      <th></th>\n",
       "      <th>Edad</th>\n",
       "      <th>Distacia_desde_casa</th>\n",
       "      <th>Satisfacción_ambiente</th>\n",
       "      <th>Nivel_trabajo</th>\n",
       "      <th>Salario_mensual</th>\n",
       "      <th>No_Compañías_anteriores</th>\n",
       "      <th>Satisfacción_relaciones</th>\n",
       "      <th>Años_trabajo</th>\n",
       "      <th>Antigüedad</th>\n",
       "      <th>Años_cargo_actual</th>\n",
       "      <th>Última_promoción</th>\n",
       "      <th>Años_manager_actual</th>\n",
       "    </tr>\n",
       "  </thead>\n",
       "  <tbody>\n",
       "    <tr>\n",
       "      <th>count</th>\n",
       "      <td>1470.000000</td>\n",
       "      <td>1470.000000</td>\n",
       "      <td>1470.000000</td>\n",
       "      <td>1470.000000</td>\n",
       "      <td>1470.000000</td>\n",
       "      <td>1470.000000</td>\n",
       "      <td>1470.000000</td>\n",
       "      <td>1470.000000</td>\n",
       "      <td>1470.000000</td>\n",
       "      <td>1470.000000</td>\n",
       "      <td>1470.000000</td>\n",
       "      <td>1470.000000</td>\n",
       "    </tr>\n",
       "    <tr>\n",
       "      <th>mean</th>\n",
       "      <td>36.923810</td>\n",
       "      <td>9.192517</td>\n",
       "      <td>2.721769</td>\n",
       "      <td>2.063946</td>\n",
       "      <td>6502.931293</td>\n",
       "      <td>2.693197</td>\n",
       "      <td>2.712245</td>\n",
       "      <td>11.279592</td>\n",
       "      <td>7.008163</td>\n",
       "      <td>4.229252</td>\n",
       "      <td>2.187755</td>\n",
       "      <td>4.123129</td>\n",
       "    </tr>\n",
       "    <tr>\n",
       "      <th>std</th>\n",
       "      <td>9.135373</td>\n",
       "      <td>8.106864</td>\n",
       "      <td>1.093082</td>\n",
       "      <td>1.106940</td>\n",
       "      <td>4707.956783</td>\n",
       "      <td>2.498009</td>\n",
       "      <td>1.081209</td>\n",
       "      <td>7.780782</td>\n",
       "      <td>6.126525</td>\n",
       "      <td>3.623137</td>\n",
       "      <td>3.222430</td>\n",
       "      <td>3.568136</td>\n",
       "    </tr>\n",
       "    <tr>\n",
       "      <th>min</th>\n",
       "      <td>18.000000</td>\n",
       "      <td>1.000000</td>\n",
       "      <td>1.000000</td>\n",
       "      <td>1.000000</td>\n",
       "      <td>1009.000000</td>\n",
       "      <td>0.000000</td>\n",
       "      <td>1.000000</td>\n",
       "      <td>0.000000</td>\n",
       "      <td>0.000000</td>\n",
       "      <td>0.000000</td>\n",
       "      <td>0.000000</td>\n",
       "      <td>0.000000</td>\n",
       "    </tr>\n",
       "    <tr>\n",
       "      <th>25%</th>\n",
       "      <td>30.000000</td>\n",
       "      <td>2.000000</td>\n",
       "      <td>2.000000</td>\n",
       "      <td>1.000000</td>\n",
       "      <td>2911.000000</td>\n",
       "      <td>1.000000</td>\n",
       "      <td>2.000000</td>\n",
       "      <td>6.000000</td>\n",
       "      <td>3.000000</td>\n",
       "      <td>2.000000</td>\n",
       "      <td>0.000000</td>\n",
       "      <td>2.000000</td>\n",
       "    </tr>\n",
       "    <tr>\n",
       "      <th>50%</th>\n",
       "      <td>36.000000</td>\n",
       "      <td>7.000000</td>\n",
       "      <td>3.000000</td>\n",
       "      <td>2.000000</td>\n",
       "      <td>4919.000000</td>\n",
       "      <td>2.000000</td>\n",
       "      <td>3.000000</td>\n",
       "      <td>10.000000</td>\n",
       "      <td>5.000000</td>\n",
       "      <td>3.000000</td>\n",
       "      <td>1.000000</td>\n",
       "      <td>3.000000</td>\n",
       "    </tr>\n",
       "    <tr>\n",
       "      <th>75%</th>\n",
       "      <td>43.000000</td>\n",
       "      <td>14.000000</td>\n",
       "      <td>4.000000</td>\n",
       "      <td>3.000000</td>\n",
       "      <td>8379.000000</td>\n",
       "      <td>4.000000</td>\n",
       "      <td>4.000000</td>\n",
       "      <td>15.000000</td>\n",
       "      <td>9.000000</td>\n",
       "      <td>7.000000</td>\n",
       "      <td>3.000000</td>\n",
       "      <td>7.000000</td>\n",
       "    </tr>\n",
       "    <tr>\n",
       "      <th>max</th>\n",
       "      <td>60.000000</td>\n",
       "      <td>29.000000</td>\n",
       "      <td>4.000000</td>\n",
       "      <td>5.000000</td>\n",
       "      <td>19999.000000</td>\n",
       "      <td>9.000000</td>\n",
       "      <td>4.000000</td>\n",
       "      <td>40.000000</td>\n",
       "      <td>40.000000</td>\n",
       "      <td>18.000000</td>\n",
       "      <td>15.000000</td>\n",
       "      <td>17.000000</td>\n",
       "    </tr>\n",
       "  </tbody>\n",
       "</table>\n",
       "</div>"
      ],
      "text/plain": [
       "              Edad  Distacia_desde_casa  Satisfacción_ambiente  Nivel_trabajo  \\\n",
       "count  1470.000000          1470.000000            1470.000000    1470.000000   \n",
       "mean     36.923810             9.192517               2.721769       2.063946   \n",
       "std       9.135373             8.106864               1.093082       1.106940   \n",
       "min      18.000000             1.000000               1.000000       1.000000   \n",
       "25%      30.000000             2.000000               2.000000       1.000000   \n",
       "50%      36.000000             7.000000               3.000000       2.000000   \n",
       "75%      43.000000            14.000000               4.000000       3.000000   \n",
       "max      60.000000            29.000000               4.000000       5.000000   \n",
       "\n",
       "       Salario_mensual  No_Compañías_anteriores  Satisfacción_relaciones  \\\n",
       "count      1470.000000              1470.000000              1470.000000   \n",
       "mean       6502.931293                 2.693197                 2.712245   \n",
       "std        4707.956783                 2.498009                 1.081209   \n",
       "min        1009.000000                 0.000000                 1.000000   \n",
       "25%        2911.000000                 1.000000                 2.000000   \n",
       "50%        4919.000000                 2.000000                 3.000000   \n",
       "75%        8379.000000                 4.000000                 4.000000   \n",
       "max       19999.000000                 9.000000                 4.000000   \n",
       "\n",
       "       Años_trabajo   Antigüedad  Años_cargo_actual  Última_promoción  \\\n",
       "count   1470.000000  1470.000000        1470.000000       1470.000000   \n",
       "mean      11.279592     7.008163           4.229252          2.187755   \n",
       "std        7.780782     6.126525           3.623137          3.222430   \n",
       "min        0.000000     0.000000           0.000000          0.000000   \n",
       "25%        6.000000     3.000000           2.000000          0.000000   \n",
       "50%       10.000000     5.000000           3.000000          1.000000   \n",
       "75%       15.000000     9.000000           7.000000          3.000000   \n",
       "max       40.000000    40.000000          18.000000         15.000000   \n",
       "\n",
       "       Años_manager_actual  \n",
       "count          1470.000000  \n",
       "mean              4.123129  \n",
       "std               3.568136  \n",
       "min               0.000000  \n",
       "25%               2.000000  \n",
       "50%               3.000000  \n",
       "75%               7.000000  \n",
       "max              17.000000  "
      ]
     },
     "execution_count": 5,
     "metadata": {},
     "output_type": "execute_result"
    }
   ],
   "source": [
    "# Se realiza el perfilamiento de los datos. En este, se genera información de tipo descriptivo para cada una de las \n",
    "# variables numéricas.\n",
    "data.describe()"
   ]
  },
  {
   "cell_type": "code",
   "execution_count": 6,
   "metadata": {},
   "outputs": [
    {
     "data": {
      "text/plain": [
       "Ocasional         1043\n",
       "Frecuentemente     277\n",
       "No-viaja           150\n",
       "Name: Viaje_negocio, dtype: int64"
      ]
     },
     "execution_count": 6,
     "metadata": {},
     "output_type": "execute_result"
    }
   ],
   "source": [
    "# Categorías que se presentan en la variable categórica \"Viaje_negocio\" y en qué proporción.\n",
    "pd.value_counts(data['Viaje_negocio'])"
   ]
  },
  {
   "cell_type": "code",
   "execution_count": 7,
   "metadata": {},
   "outputs": [
    {
     "data": {
      "text/plain": [
       "Masculino    882\n",
       "Femenino     588\n",
       "Name: Género, dtype: int64"
      ]
     },
     "execution_count": 7,
     "metadata": {},
     "output_type": "execute_result"
    }
   ],
   "source": [
    "# Categorías que se presentan en la variable categórica \"Género\" y en qué proporción.\n",
    "pd.value_counts(data['Género'])"
   ]
  },
  {
   "cell_type": "code",
   "execution_count": 8,
   "metadata": {},
   "outputs": [
    {
     "data": {
      "text/plain": [
       "Casado        673\n",
       "Soltero       470\n",
       "Divorciado    327\n",
       "Name: Estatus_marital, dtype: int64"
      ]
     },
     "execution_count": 8,
     "metadata": {},
     "output_type": "execute_result"
    }
   ],
   "source": [
    "# Categorías que se presentan en la variable categórica \"Estatus_marital\" y en qué proporción.\n",
    "pd.value_counts(data['Estatus_marital'])"
   ]
  },
  {
   "cell_type": "code",
   "execution_count": 9,
   "metadata": {},
   "outputs": [
    {
     "data": {
      "text/plain": [
       "NO    1054\n",
       "SI     416\n",
       "Name: Sobretiempo, dtype: int64"
      ]
     },
     "execution_count": 9,
     "metadata": {},
     "output_type": "execute_result"
    }
   ],
   "source": [
    "# Categorías que se presentan en la variable categórica \"Sobretiempo\" y en qué proporción.\n",
    "pd.value_counts(data['Sobretiempo'])"
   ]
  },
  {
   "cell_type": "markdown",
   "metadata": {},
   "source": [
    "Nuestra variable objetivo es \"Renuncia\", la cual indica si un empleado abandonó la empresa (SI) o se encuentra todavía laborando en esta."
   ]
  },
  {
   "cell_type": "code",
   "execution_count": 10,
   "metadata": {},
   "outputs": [
    {
     "data": {
      "text/plain": [
       "NO    1233\n",
       "SI     237\n",
       "Name: Renuncia, dtype: int64"
      ]
     },
     "execution_count": 10,
     "metadata": {},
     "output_type": "execute_result"
    }
   ],
   "source": [
    "# Categorías que se presentan en la variable categórica \"Renuncia\" y en qué proporción.\n",
    "pd.value_counts(data['Renuncia'])"
   ]
  },
  {
   "cell_type": "markdown",
   "metadata": {},
   "source": [
    "### 3. Limpieza y preparación de los datos\n",
    "\n",
    "Primero vamos a ejecutar los pasos de limpieza de los datos, relacionados con la eliminación de registros con ausencias y duplicados."
   ]
  },
  {
   "cell_type": "code",
   "execution_count": 11,
   "metadata": {},
   "outputs": [],
   "source": [
    "# Es recomendable que todos los pasos de limpieza y preparación se realicen sobre otro archivo.\n",
    "data_t = data\n",
    "# Eliminación data vacía\n",
    "data_t=data_t.dropna()\n",
    "# Eliminación de registros duplicados.\n",
    "data_t=data_t.drop_duplicates()"
   ]
  },
  {
   "cell_type": "markdown",
   "metadata": {},
   "source": [
    "Un aspecto muy importante para tener en cuenta son los requerimientos de entrada de los algoritmos de aprendizaje implementados en las librerías utilizadas. En particular, scikit-learn requiere que todos los atributos sean numéricos y que la variable objetivo, en una tarea de clasificación, esté codificada con números."
   ]
  },
  {
   "cell_type": "code",
   "execution_count": 12,
   "metadata": {},
   "outputs": [],
   "source": [
    "# Transformación de las variables categóricas de entrada\n",
    "data_t = pd.get_dummies(data_t, columns=['Viaje_negocio','Género', 'Estatus_marital', 'Sobretiempo'])"
   ]
  },
  {
   "cell_type": "code",
   "execution_count": 13,
   "metadata": {},
   "outputs": [],
   "source": [
    "# Para hacer la transformación o codificación de la variable objetivo utilizaremos la función labelEncoder. Es importante \n",
    "# que tengas en cuenta que, aunque la representación de esta variable sea numérica, la tarea a resolver seguirá siendo \n",
    "# una clasificación.\n",
    "# Primero tenemos que generar el objeto.\n",
    "codificacion = LabelEncoder()"
   ]
  },
  {
   "cell_type": "code",
   "execution_count": 14,
   "metadata": {},
   "outputs": [],
   "source": [
    "# Ahora se ajusta a los datos.\n",
    "data_t['Renuncia']=codificacion.fit_transform(data_t['Renuncia'])"
   ]
  },
  {
   "cell_type": "code",
   "execution_count": 15,
   "metadata": {},
   "outputs": [
    {
     "data": {
      "text/plain": [
       "0    1233\n",
       "1     237\n",
       "Name: Renuncia, dtype: int64"
      ]
     },
     "execution_count": 15,
     "metadata": {},
     "output_type": "execute_result"
    }
   ],
   "source": [
    "# Visualización de la clase. Observamos que ahora la categoría \"SI\" está codificada con un \"1\" y la clase \"NO\" con un \"0\"\n",
    "data_t['Renuncia'].value_counts()"
   ]
  },
  {
   "cell_type": "code",
   "execution_count": 16,
   "metadata": {},
   "outputs": [
    {
     "data": {
      "text/html": [
       "<div>\n",
       "<style scoped>\n",
       "    .dataframe tbody tr th:only-of-type {\n",
       "        vertical-align: middle;\n",
       "    }\n",
       "\n",
       "    .dataframe tbody tr th {\n",
       "        vertical-align: top;\n",
       "    }\n",
       "\n",
       "    .dataframe thead th {\n",
       "        text-align: right;\n",
       "    }\n",
       "</style>\n",
       "<table border=\"1\" class=\"dataframe\">\n",
       "  <thead>\n",
       "    <tr style=\"text-align: right;\">\n",
       "      <th></th>\n",
       "      <th>Edad</th>\n",
       "      <th>Renuncia</th>\n",
       "      <th>Distacia_desde_casa</th>\n",
       "      <th>Satisfacción_ambiente</th>\n",
       "      <th>Nivel_trabajo</th>\n",
       "      <th>Salario_mensual</th>\n",
       "      <th>No_Compañías_anteriores</th>\n",
       "      <th>Satisfacción_relaciones</th>\n",
       "      <th>Años_trabajo</th>\n",
       "      <th>Antigüedad</th>\n",
       "      <th>...</th>\n",
       "      <th>Viaje_negocio_Frecuentemente</th>\n",
       "      <th>Viaje_negocio_No-viaja</th>\n",
       "      <th>Viaje_negocio_Ocasional</th>\n",
       "      <th>Género_Femenino</th>\n",
       "      <th>Género_Masculino</th>\n",
       "      <th>Estatus_marital_Casado</th>\n",
       "      <th>Estatus_marital_Divorciado</th>\n",
       "      <th>Estatus_marital_Soltero</th>\n",
       "      <th>Sobretiempo_NO</th>\n",
       "      <th>Sobretiempo_SI</th>\n",
       "    </tr>\n",
       "  </thead>\n",
       "  <tbody>\n",
       "    <tr>\n",
       "      <th>0</th>\n",
       "      <td>41</td>\n",
       "      <td>1</td>\n",
       "      <td>1</td>\n",
       "      <td>2</td>\n",
       "      <td>2</td>\n",
       "      <td>5993</td>\n",
       "      <td>8</td>\n",
       "      <td>1</td>\n",
       "      <td>8</td>\n",
       "      <td>6</td>\n",
       "      <td>...</td>\n",
       "      <td>0</td>\n",
       "      <td>0</td>\n",
       "      <td>1</td>\n",
       "      <td>1</td>\n",
       "      <td>0</td>\n",
       "      <td>0</td>\n",
       "      <td>0</td>\n",
       "      <td>1</td>\n",
       "      <td>0</td>\n",
       "      <td>1</td>\n",
       "    </tr>\n",
       "    <tr>\n",
       "      <th>1</th>\n",
       "      <td>49</td>\n",
       "      <td>0</td>\n",
       "      <td>8</td>\n",
       "      <td>3</td>\n",
       "      <td>2</td>\n",
       "      <td>5130</td>\n",
       "      <td>1</td>\n",
       "      <td>4</td>\n",
       "      <td>10</td>\n",
       "      <td>10</td>\n",
       "      <td>...</td>\n",
       "      <td>1</td>\n",
       "      <td>0</td>\n",
       "      <td>0</td>\n",
       "      <td>0</td>\n",
       "      <td>1</td>\n",
       "      <td>1</td>\n",
       "      <td>0</td>\n",
       "      <td>0</td>\n",
       "      <td>1</td>\n",
       "      <td>0</td>\n",
       "    </tr>\n",
       "    <tr>\n",
       "      <th>2</th>\n",
       "      <td>37</td>\n",
       "      <td>1</td>\n",
       "      <td>2</td>\n",
       "      <td>4</td>\n",
       "      <td>1</td>\n",
       "      <td>2090</td>\n",
       "      <td>6</td>\n",
       "      <td>2</td>\n",
       "      <td>7</td>\n",
       "      <td>0</td>\n",
       "      <td>...</td>\n",
       "      <td>0</td>\n",
       "      <td>0</td>\n",
       "      <td>1</td>\n",
       "      <td>0</td>\n",
       "      <td>1</td>\n",
       "      <td>0</td>\n",
       "      <td>0</td>\n",
       "      <td>1</td>\n",
       "      <td>0</td>\n",
       "      <td>1</td>\n",
       "    </tr>\n",
       "    <tr>\n",
       "      <th>3</th>\n",
       "      <td>33</td>\n",
       "      <td>0</td>\n",
       "      <td>3</td>\n",
       "      <td>4</td>\n",
       "      <td>1</td>\n",
       "      <td>2909</td>\n",
       "      <td>1</td>\n",
       "      <td>3</td>\n",
       "      <td>8</td>\n",
       "      <td>8</td>\n",
       "      <td>...</td>\n",
       "      <td>1</td>\n",
       "      <td>0</td>\n",
       "      <td>0</td>\n",
       "      <td>1</td>\n",
       "      <td>0</td>\n",
       "      <td>1</td>\n",
       "      <td>0</td>\n",
       "      <td>0</td>\n",
       "      <td>0</td>\n",
       "      <td>1</td>\n",
       "    </tr>\n",
       "    <tr>\n",
       "      <th>4</th>\n",
       "      <td>27</td>\n",
       "      <td>0</td>\n",
       "      <td>2</td>\n",
       "      <td>1</td>\n",
       "      <td>1</td>\n",
       "      <td>3468</td>\n",
       "      <td>9</td>\n",
       "      <td>4</td>\n",
       "      <td>6</td>\n",
       "      <td>2</td>\n",
       "      <td>...</td>\n",
       "      <td>0</td>\n",
       "      <td>0</td>\n",
       "      <td>1</td>\n",
       "      <td>0</td>\n",
       "      <td>1</td>\n",
       "      <td>1</td>\n",
       "      <td>0</td>\n",
       "      <td>0</td>\n",
       "      <td>1</td>\n",
       "      <td>0</td>\n",
       "    </tr>\n",
       "  </tbody>\n",
       "</table>\n",
       "<p>5 rows × 23 columns</p>\n",
       "</div>"
      ],
      "text/plain": [
       "   Edad  Renuncia  Distacia_desde_casa  Satisfacción_ambiente  Nivel_trabajo  \\\n",
       "0    41         1                    1                      2              2   \n",
       "1    49         0                    8                      3              2   \n",
       "2    37         1                    2                      4              1   \n",
       "3    33         0                    3                      4              1   \n",
       "4    27         0                    2                      1              1   \n",
       "\n",
       "   Salario_mensual  No_Compañías_anteriores  Satisfacción_relaciones  \\\n",
       "0             5993                        8                        1   \n",
       "1             5130                        1                        4   \n",
       "2             2090                        6                        2   \n",
       "3             2909                        1                        3   \n",
       "4             3468                        9                        4   \n",
       "\n",
       "   Años_trabajo  Antigüedad  ...  Viaje_negocio_Frecuentemente  \\\n",
       "0             8           6  ...                             0   \n",
       "1            10          10  ...                             1   \n",
       "2             7           0  ...                             0   \n",
       "3             8           8  ...                             1   \n",
       "4             6           2  ...                             0   \n",
       "\n",
       "   Viaje_negocio_No-viaja  Viaje_negocio_Ocasional  Género_Femenino  \\\n",
       "0                       0                        1                1   \n",
       "1                       0                        0                0   \n",
       "2                       0                        1                0   \n",
       "3                       0                        0                1   \n",
       "4                       0                        1                0   \n",
       "\n",
       "   Género_Masculino  Estatus_marital_Casado  Estatus_marital_Divorciado  \\\n",
       "0                 0                       0                           0   \n",
       "1                 1                       1                           0   \n",
       "2                 1                       0                           0   \n",
       "3                 0                       1                           0   \n",
       "4                 1                       1                           0   \n",
       "\n",
       "   Estatus_marital_Soltero  Sobretiempo_NO  Sobretiempo_SI  \n",
       "0                        1               0               1  \n",
       "1                        0               1               0  \n",
       "2                        1               0               1  \n",
       "3                        0               0               1  \n",
       "4                        0               1               0  \n",
       "\n",
       "[5 rows x 23 columns]"
      ]
     },
     "execution_count": 16,
     "metadata": {},
     "output_type": "execute_result"
    }
   ],
   "source": [
    "# Podemos ver cómo quedaron nuestro datos.\n",
    "data_t.head()"
   ]
  },
  {
   "cell_type": "code",
   "execution_count": 17,
   "metadata": {},
   "outputs": [
    {
     "data": {
      "text/plain": [
       "(1470, 23)"
      ]
     },
     "execution_count": 17,
     "metadata": {},
     "output_type": "execute_result"
    }
   ],
   "source": [
    "#revisión del total de registros\n",
    "data_t.shape"
   ]
  },
  {
   "cell_type": "markdown",
   "metadata": {},
   "source": [
    "### 4. Construcción del modelo\n",
    "\n",
    "Los algoritmos supervisados implementados en scikit-learn requieren que las variables de entrada estén separadas de la variable objetivo. "
   ]
  },
  {
   "cell_type": "code",
   "execution_count": 18,
   "metadata": {},
   "outputs": [],
   "source": [
    "# Se selecciona la variable objetivo, en este caso \"Renuncia\".\n",
    "Y=data_t['Renuncia']\n",
    "# Del conjunto de datos se elimina la variable \"Renuncia\".\n",
    "X=data_t.drop(['Renuncia'], axis=1)"
   ]
  },
  {
   "cell_type": "code",
   "execution_count": 19,
   "metadata": {},
   "outputs": [],
   "source": [
    "# Dividimos los datos en entrenamiento y test\n",
    "X_train, X_test, Y_train, Y_test = train_test_split(X, Y, test_size=0.2, random_state=0)"
   ]
  },
  {
   "cell_type": "code",
   "execution_count": 20,
   "metadata": {},
   "outputs": [
    {
     "data": {
      "text/plain": [
       "DecisionTreeClassifier(criterion='entropy', random_state=0)"
      ]
     },
     "execution_count": 20,
     "metadata": {},
     "output_type": "execute_result"
    }
   ],
   "source": [
    "# Creación del objeto de arbol de decisión. Utilicemos como criterio de pureza la entropía.\n",
    "arbol = DecisionTreeClassifier(criterion='entropy', random_state = 0)\n",
    "arbol"
   ]
  },
  {
   "cell_type": "code",
   "execution_count": 21,
   "metadata": {},
   "outputs": [],
   "source": [
    "# Entrenamiento del modelo de arbol de decisión con los datos de entrenamiento.\n",
    "arbol = arbol.fit(X_train,Y_train)"
   ]
  },
  {
   "cell_type": "code",
   "execution_count": 22,
   "metadata": {},
   "outputs": [
    {
     "name": "stdout",
     "output_type": "stream",
     "text": [
      "Exactitud: 0.78\n"
     ]
    }
   ],
   "source": [
    "# Podemos determinar la exactitud del modelo sobre los datos de test, para determinar su rendimiento de generalización. Esta, y\n",
    "# otras métricas las estudiaremos en las siguientes lecciones.\n",
    "y_pred = arbol.predict(X_test)\n",
    "print('Exactitud: %.2f' % accuracy_score(Y_test, y_pred))"
   ]
  },
  {
   "cell_type": "markdown",
   "metadata": {},
   "source": [
    "### 5. Interpretación del modelo.\n",
    "Podemos determinar cuáles atributos son los más importantes a partir del modelo generado. Recuerda que estos algoritmos realizan una selección en cada paso de construcción del árbol con base en la medida de pureza.\n"
   ]
  },
  {
   "cell_type": "code",
   "execution_count": 23,
   "metadata": {},
   "outputs": [
    {
     "data": {
      "text/plain": [
       "array([0.10207194, 0.09062113, 0.06386097, 0.00629047, 0.19124189,\n",
       "       0.05368191, 0.03993272, 0.04866365, 0.09872115, 0.03787536,\n",
       "       0.04262166, 0.05540804, 0.01661614, 0.00758079, 0.00646064,\n",
       "       0.0057832 , 0.00536506, 0.00651151, 0.011716  , 0.0417476 ,\n",
       "       0.04827075, 0.01895741])"
      ]
     },
     "execution_count": 23,
     "metadata": {},
     "output_type": "execute_result"
    }
   ],
   "source": [
    "# Obtener la importancia de las variables. Para esto podemos utilizar uno de los atributos del modelo \"feature_importances_\", el\n",
    "# cual nos devuelve un coeficiente o peso para cada atributo: mientras más grande sea este más importante será la variable\n",
    "# asociada.\n",
    "importancia= arbol.feature_importances_\n",
    "importancia"
   ]
  },
  {
   "cell_type": "markdown",
   "metadata": {},
   "source": [
    "También podemos ordenar y tabular estos coeficientes para facilitar la interpretación."
   ]
  },
  {
   "cell_type": "code",
   "execution_count": 24,
   "metadata": {},
   "outputs": [
    {
     "data": {
      "text/html": [
       "<div>\n",
       "<style scoped>\n",
       "    .dataframe tbody tr th:only-of-type {\n",
       "        vertical-align: middle;\n",
       "    }\n",
       "\n",
       "    .dataframe tbody tr th {\n",
       "        vertical-align: top;\n",
       "    }\n",
       "\n",
       "    .dataframe thead th {\n",
       "        text-align: right;\n",
       "    }\n",
       "</style>\n",
       "<table border=\"1\" class=\"dataframe\">\n",
       "  <thead>\n",
       "    <tr style=\"text-align: right;\">\n",
       "      <th></th>\n",
       "      <th>Atributo</th>\n",
       "      <th>Importancia</th>\n",
       "    </tr>\n",
       "  </thead>\n",
       "  <tbody>\n",
       "    <tr>\n",
       "      <th>0</th>\n",
       "      <td>Salario_mensual</td>\n",
       "      <td>0.191242</td>\n",
       "    </tr>\n",
       "    <tr>\n",
       "      <th>1</th>\n",
       "      <td>Edad</td>\n",
       "      <td>0.102072</td>\n",
       "    </tr>\n",
       "    <tr>\n",
       "      <th>2</th>\n",
       "      <td>Antigüedad</td>\n",
       "      <td>0.098721</td>\n",
       "    </tr>\n",
       "    <tr>\n",
       "      <th>3</th>\n",
       "      <td>Distacia_desde_casa</td>\n",
       "      <td>0.090621</td>\n",
       "    </tr>\n",
       "    <tr>\n",
       "      <th>4</th>\n",
       "      <td>Satisfacción_ambiente</td>\n",
       "      <td>0.063861</td>\n",
       "    </tr>\n",
       "    <tr>\n",
       "      <th>5</th>\n",
       "      <td>Años_manager_actual</td>\n",
       "      <td>0.055408</td>\n",
       "    </tr>\n",
       "    <tr>\n",
       "      <th>6</th>\n",
       "      <td>No_Compañías_anteriores</td>\n",
       "      <td>0.053682</td>\n",
       "    </tr>\n",
       "    <tr>\n",
       "      <th>7</th>\n",
       "      <td>Años_trabajo</td>\n",
       "      <td>0.048664</td>\n",
       "    </tr>\n",
       "    <tr>\n",
       "      <th>8</th>\n",
       "      <td>Sobretiempo_NO</td>\n",
       "      <td>0.048271</td>\n",
       "    </tr>\n",
       "    <tr>\n",
       "      <th>9</th>\n",
       "      <td>Última_promoción</td>\n",
       "      <td>0.042622</td>\n",
       "    </tr>\n",
       "    <tr>\n",
       "      <th>10</th>\n",
       "      <td>Estatus_marital_Soltero</td>\n",
       "      <td>0.041748</td>\n",
       "    </tr>\n",
       "    <tr>\n",
       "      <th>11</th>\n",
       "      <td>Satisfacción_relaciones</td>\n",
       "      <td>0.039933</td>\n",
       "    </tr>\n",
       "    <tr>\n",
       "      <th>12</th>\n",
       "      <td>Años_cargo_actual</td>\n",
       "      <td>0.037875</td>\n",
       "    </tr>\n",
       "    <tr>\n",
       "      <th>13</th>\n",
       "      <td>Sobretiempo_SI</td>\n",
       "      <td>0.018957</td>\n",
       "    </tr>\n",
       "    <tr>\n",
       "      <th>14</th>\n",
       "      <td>Viaje_negocio_Frecuentemente</td>\n",
       "      <td>0.016616</td>\n",
       "    </tr>\n",
       "    <tr>\n",
       "      <th>15</th>\n",
       "      <td>Estatus_marital_Divorciado</td>\n",
       "      <td>0.011716</td>\n",
       "    </tr>\n",
       "    <tr>\n",
       "      <th>16</th>\n",
       "      <td>Viaje_negocio_No-viaja</td>\n",
       "      <td>0.007581</td>\n",
       "    </tr>\n",
       "    <tr>\n",
       "      <th>17</th>\n",
       "      <td>Estatus_marital_Casado</td>\n",
       "      <td>0.006512</td>\n",
       "    </tr>\n",
       "    <tr>\n",
       "      <th>18</th>\n",
       "      <td>Viaje_negocio_Ocasional</td>\n",
       "      <td>0.006461</td>\n",
       "    </tr>\n",
       "    <tr>\n",
       "      <th>19</th>\n",
       "      <td>Nivel_trabajo</td>\n",
       "      <td>0.006290</td>\n",
       "    </tr>\n",
       "    <tr>\n",
       "      <th>20</th>\n",
       "      <td>Género_Femenino</td>\n",
       "      <td>0.005783</td>\n",
       "    </tr>\n",
       "    <tr>\n",
       "      <th>21</th>\n",
       "      <td>Género_Masculino</td>\n",
       "      <td>0.005365</td>\n",
       "    </tr>\n",
       "  </tbody>\n",
       "</table>\n",
       "</div>"
      ],
      "text/plain": [
       "                        Atributo  Importancia\n",
       "0                Salario_mensual     0.191242\n",
       "1                           Edad     0.102072\n",
       "2                     Antigüedad     0.098721\n",
       "3            Distacia_desde_casa     0.090621\n",
       "4          Satisfacción_ambiente     0.063861\n",
       "5            Años_manager_actual     0.055408\n",
       "6        No_Compañías_anteriores     0.053682\n",
       "7                   Años_trabajo     0.048664\n",
       "8                 Sobretiempo_NO     0.048271\n",
       "9               Última_promoción     0.042622\n",
       "10       Estatus_marital_Soltero     0.041748\n",
       "11       Satisfacción_relaciones     0.039933\n",
       "12             Años_cargo_actual     0.037875\n",
       "13                Sobretiempo_SI     0.018957\n",
       "14  Viaje_negocio_Frecuentemente     0.016616\n",
       "15    Estatus_marital_Divorciado     0.011716\n",
       "16        Viaje_negocio_No-viaja     0.007581\n",
       "17        Estatus_marital_Casado     0.006512\n",
       "18       Viaje_negocio_Ocasional     0.006461\n",
       "19                 Nivel_trabajo     0.006290\n",
       "20               Género_Femenino     0.005783\n",
       "21              Género_Masculino     0.005365"
      ]
     },
     "execution_count": 24,
     "metadata": {},
     "output_type": "execute_result"
    }
   ],
   "source": [
    "importancia_atributo = pd.DataFrame(data={\"Atributo\": X_train.columns,\"Importancia\": importancia})\n",
    "importancia_atributo = importancia_atributo.sort_values(by='Importancia', ascending=False).reset_index(drop=True)\n",
    "importancia_atributo"
   ]
  },
  {
   "cell_type": "markdown",
   "metadata": {},
   "source": [
    "Ahora vamos a graficar el modelo. Para propósitos de visualización limitaremos la profundidad del árbol a 3. "
   ]
  },
  {
   "cell_type": "code",
   "execution_count": 25,
   "metadata": {
    "scrolled": false
   },
   "outputs": [
    {
     "data": {
      "image/png": "[encoded data removed]",
      "text/plain": [
       "<Figure size 1800x720 with 1 Axes>"
      ]
     },
     "metadata": {
      "needs_background": "light"
     },
     "output_type": "display_data"
    }
   ],
   "source": [
    "fig = plt.figure(figsize=(25,10))\n",
    "_ = tree.plot_tree(arbol, max_depth=3, feature_names=X.columns, class_names=[\"0\", \"1\"], filled=True, fontsize=9)"
   ]
  },
  {
   "cell_type": "code",
   "execution_count": 26,
   "metadata": {},
   "outputs": [],
   "source": [
    "# También podemos guardar esta figura como una imagen.\n",
    "fig.savefig(\"decistion_tree.png\")"
   ]
  },
  {
   "cell_type": "markdown",
   "metadata": {},
   "source": [
    "[![Banner-Modelos.png](https://i.postimg.cc/RCgy2XdL/Banner-Modelos.png)](https://postimg.cc/PN8SwbBC)"
   ]
  }
 ],
 "metadata": {
  "kernelspec": {
   "display_name": "Python 3 (ipykernel)",
   "language": "python",
   "name": "python3"
  },
  "language_info": {
   "codemirror_mode": {
    "name": "ipython",
    "version": 3
   },
   "file_extension": ".py",
   "mimetype": "text/x-python",
   "name": "python",
   "nbconvert_exporter": "python",
   "pygments_lexer": "ipython3",
   "version": "3.9.12"
  }
 },
 "nbformat": 4,
 "nbformat_minor": 2
}
